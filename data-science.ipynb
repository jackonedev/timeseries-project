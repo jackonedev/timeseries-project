{
 "cells": [
  {
   "cell_type": "markdown",
   "metadata": {},
   "source": [
    "# Time Series Project\n",
    "\n",
    "En la primera etapa nos ocupamos de cargar los datos"
   ]
  },
  {
   "cell_type": "markdown",
   "metadata": {},
   "source": [
    "# CARGANDO EL DATASET"
   ]
  },
  {
   "cell_type": "code",
   "execution_count": 39,
   "metadata": {},
   "outputs": [],
   "source": [
    "import pandas as pd\n",
    "\n",
    "import warnings\n",
    "\n",
    "warnings.filterwarnings(\"ignore\")\n",
    "\n",
    "from paquete_proyecto.iniciando.bases import importar_databases\n",
    "from paquete_proyecto.herramientas.data_info import data_info"
   ]
  },
  {
   "cell_type": "code",
   "execution_count": 40,
   "metadata": {},
   "outputs": [
    {
     "name": "stdout",
     "output_type": "stream",
     "text": [
      "La longitud de la serie Nº 3 es de: 127255\n",
      "La longitud de la serie Nº 4 es de: 108794\n"
     ]
    }
   ],
   "source": [
    "ventas, ventas_sin_duplicados = importar_databases()"
   ]
  },
  {
   "cell_type": "code",
   "execution_count": 41,
   "metadata": {},
   "outputs": [
    {
     "data": {
      "text/plain": [
       "724"
      ]
     },
     "execution_count": 41,
     "metadata": {},
     "output_type": "execute_result"
    }
   ],
   "source": [
    "# cantidad de dias que faltan\n",
    "127979 - 127255"
   ]
  },
  {
   "cell_type": "code",
   "execution_count": 42,
   "metadata": {},
   "outputs": [
    {
     "data": {
      "text/html": [
       "<div>\n",
       "<style scoped>\n",
       "    .dataframe tbody tr th:only-of-type {\n",
       "        vertical-align: middle;\n",
       "    }\n",
       "\n",
       "    .dataframe tbody tr th {\n",
       "        vertical-align: top;\n",
       "    }\n",
       "\n",
       "    .dataframe thead th {\n",
       "        text-align: right;\n",
       "    }\n",
       "</style>\n",
       "<table border=\"1\" class=\"dataframe\">\n",
       "  <thead>\n",
       "    <tr style=\"text-align: right;\">\n",
       "      <th></th>\n",
       "      <th>IdCliente</th>\n",
       "      <th>NombreCliente</th>\n",
       "      <th>Empleado</th>\n",
       "      <th>Referencia</th>\n",
       "      <th>Descripcion</th>\n",
       "      <th>CodigoFamilia</th>\n",
       "      <th>Familia</th>\n",
       "      <th>Cantidad</th>\n",
       "      <th>Ventas</th>\n",
       "      <th>Localidad</th>\n",
       "      <th>Sede</th>\n",
       "      <th>Area</th>\n",
       "    </tr>\n",
       "    <tr>\n",
       "      <th>Fecha</th>\n",
       "      <th></th>\n",
       "      <th></th>\n",
       "      <th></th>\n",
       "      <th></th>\n",
       "      <th></th>\n",
       "      <th></th>\n",
       "      <th></th>\n",
       "      <th></th>\n",
       "      <th></th>\n",
       "      <th></th>\n",
       "      <th></th>\n",
       "      <th></th>\n",
       "    </tr>\n",
       "  </thead>\n",
       "  <tbody>\n",
       "    <tr>\n",
       "      <th>2019-09-20</th>\n",
       "      <td>C860040576</td>\n",
       "      <td>COLTANQUES SAS</td>\n",
       "      <td>24.0</td>\n",
       "      <td>SE-GF-1-0001</td>\n",
       "      <td>ALINEACION</td>\n",
       "      <td>106.0</td>\n",
       "      <td>SERVICIOS</td>\n",
       "      <td>1</td>\n",
       "      <td>20034</td>\n",
       "      <td>Puente aranda</td>\n",
       "      <td>Calle 13</td>\n",
       "      <td>35.0</td>\n",
       "    </tr>\n",
       "    <tr>\n",
       "      <th>2019-02-08</th>\n",
       "      <td>C900102769</td>\n",
       "      <td>PACOLI S.A</td>\n",
       "      <td>45.0</td>\n",
       "      <td>SE-CS-1-0008</td>\n",
       "      <td>X</td>\n",
       "      <td>106.0</td>\n",
       "      <td>SERVICIOS</td>\n",
       "      <td>1</td>\n",
       "      <td>67227</td>\n",
       "      <td>Barrios unidos</td>\n",
       "      <td>Av Chile</td>\n",
       "      <td>34.0</td>\n",
       "    </tr>\n",
       "    <tr>\n",
       "      <th>2019-03-19</th>\n",
       "      <td>C890211325</td>\n",
       "      <td>TRANSPORTES CALDERON SA</td>\n",
       "      <td>27.0</td>\n",
       "      <td>LL-TCC-0061</td>\n",
       "      <td>LATITUDE TOUR HP 215/65R16</td>\n",
       "      <td>101.0</td>\n",
       "      <td>LLANTA</td>\n",
       "      <td>4</td>\n",
       "      <td>1284033</td>\n",
       "      <td>Barrios unidos</td>\n",
       "      <td>Av Chile</td>\n",
       "      <td>34.0</td>\n",
       "    </tr>\n",
       "  </tbody>\n",
       "</table>\n",
       "</div>"
      ],
      "text/plain": [
       "             IdCliente            NombreCliente  Empleado    Referencia  \\\n",
       "Fecha                                                                     \n",
       "2019-09-20  C860040576           COLTANQUES SAS      24.0  SE-GF-1-0001   \n",
       "2019-02-08  C900102769               PACOLI S.A      45.0  SE-CS-1-0008   \n",
       "2019-03-19  C890211325  TRANSPORTES CALDERON SA      27.0   LL-TCC-0061   \n",
       "\n",
       "                           Descripcion  CodigoFamilia    Familia Cantidad  \\\n",
       "Fecha                                                                       \n",
       "2019-09-20                  ALINEACION          106.0  SERVICIOS        1   \n",
       "2019-02-08                           X          106.0  SERVICIOS        1   \n",
       "2019-03-19  LATITUDE TOUR HP 215/65R16          101.0     LLANTA        4   \n",
       "\n",
       "             Ventas       Localidad      Sede  Area  \n",
       "Fecha                                                \n",
       "2019-09-20    20034   Puente aranda  Calle 13  35.0  \n",
       "2019-02-08    67227  Barrios unidos  Av Chile  34.0  \n",
       "2019-03-19  1284033  Barrios unidos  Av Chile  34.0  "
      ]
     },
     "metadata": {},
     "output_type": "display_data"
    },
    {
     "data": {
      "text/html": [
       "<div>\n",
       "<style scoped>\n",
       "    .dataframe tbody tr th:only-of-type {\n",
       "        vertical-align: middle;\n",
       "    }\n",
       "\n",
       "    .dataframe tbody tr th {\n",
       "        vertical-align: top;\n",
       "    }\n",
       "\n",
       "    .dataframe thead th {\n",
       "        text-align: right;\n",
       "    }\n",
       "</style>\n",
       "<table border=\"1\" class=\"dataframe\">\n",
       "  <thead>\n",
       "    <tr style=\"text-align: right;\">\n",
       "      <th>info de ventas</th>\n",
       "      <th>columna</th>\n",
       "      <th>type</th>\n",
       "      <th>count</th>\n",
       "      <th>NaN</th>\n",
       "      <th>NaN_pct</th>\n",
       "      <th>unique</th>\n",
       "      <th>unique_pct</th>\n",
       "    </tr>\n",
       "  </thead>\n",
       "  <tbody>\n",
       "    <tr>\n",
       "      <th>0</th>\n",
       "      <td>IdCliente</td>\n",
       "      <td>object</td>\n",
       "      <td>127255</td>\n",
       "      <td>0</td>\n",
       "      <td>0.0 %</td>\n",
       "      <td>24122</td>\n",
       "      <td>18.96 %</td>\n",
       "    </tr>\n",
       "    <tr>\n",
       "      <th>1</th>\n",
       "      <td>NombreCliente</td>\n",
       "      <td>object</td>\n",
       "      <td>127255</td>\n",
       "      <td>0</td>\n",
       "      <td>0.0 %</td>\n",
       "      <td>21840</td>\n",
       "      <td>17.16 %</td>\n",
       "    </tr>\n",
       "    <tr>\n",
       "      <th>2</th>\n",
       "      <td>Empleado</td>\n",
       "      <td>float64</td>\n",
       "      <td>127255</td>\n",
       "      <td>0</td>\n",
       "      <td>0.0 %</td>\n",
       "      <td>56</td>\n",
       "      <td>0.04 %</td>\n",
       "    </tr>\n",
       "    <tr>\n",
       "      <th>3</th>\n",
       "      <td>Referencia</td>\n",
       "      <td>object</td>\n",
       "      <td>127255</td>\n",
       "      <td>0</td>\n",
       "      <td>0.0 %</td>\n",
       "      <td>1854</td>\n",
       "      <td>1.46 %</td>\n",
       "    </tr>\n",
       "    <tr>\n",
       "      <th>4</th>\n",
       "      <td>Descripcion</td>\n",
       "      <td>object</td>\n",
       "      <td>127255</td>\n",
       "      <td>0</td>\n",
       "      <td>0.0 %</td>\n",
       "      <td>1814</td>\n",
       "      <td>1.43 %</td>\n",
       "    </tr>\n",
       "    <tr>\n",
       "      <th>5</th>\n",
       "      <td>CodigoFamilia</td>\n",
       "      <td>float64</td>\n",
       "      <td>127255</td>\n",
       "      <td>0</td>\n",
       "      <td>0.0 %</td>\n",
       "      <td>5</td>\n",
       "      <td>0.0 %</td>\n",
       "    </tr>\n",
       "    <tr>\n",
       "      <th>6</th>\n",
       "      <td>Familia</td>\n",
       "      <td>object</td>\n",
       "      <td>127255</td>\n",
       "      <td>0</td>\n",
       "      <td>0.0 %</td>\n",
       "      <td>5</td>\n",
       "      <td>0.0 %</td>\n",
       "    </tr>\n",
       "    <tr>\n",
       "      <th>7</th>\n",
       "      <td>Cantidad</td>\n",
       "      <td>object</td>\n",
       "      <td>127255</td>\n",
       "      <td>0</td>\n",
       "      <td>0.0 %</td>\n",
       "      <td>213</td>\n",
       "      <td>0.17 %</td>\n",
       "    </tr>\n",
       "    <tr>\n",
       "      <th>8</th>\n",
       "      <td>Ventas</td>\n",
       "      <td>object</td>\n",
       "      <td>127255</td>\n",
       "      <td>0</td>\n",
       "      <td>0.0 %</td>\n",
       "      <td>14279</td>\n",
       "      <td>11.22 %</td>\n",
       "    </tr>\n",
       "    <tr>\n",
       "      <th>9</th>\n",
       "      <td>Localidad</td>\n",
       "      <td>object</td>\n",
       "      <td>127255</td>\n",
       "      <td>0</td>\n",
       "      <td>0.0 %</td>\n",
       "      <td>6</td>\n",
       "      <td>0.0 %</td>\n",
       "    </tr>\n",
       "    <tr>\n",
       "      <th>10</th>\n",
       "      <td>Sede</td>\n",
       "      <td>object</td>\n",
       "      <td>127255</td>\n",
       "      <td>0</td>\n",
       "      <td>0.0 %</td>\n",
       "      <td>7</td>\n",
       "      <td>0.01 %</td>\n",
       "    </tr>\n",
       "    <tr>\n",
       "      <th>11</th>\n",
       "      <td>Area</td>\n",
       "      <td>float64</td>\n",
       "      <td>127255</td>\n",
       "      <td>0</td>\n",
       "      <td>0.0 %</td>\n",
       "      <td>7</td>\n",
       "      <td>0.01 %</td>\n",
       "    </tr>\n",
       "  </tbody>\n",
       "</table>\n",
       "</div>"
      ],
      "text/plain": [
       "info de ventas        columna     type   count  NaN NaN_pct  unique unique_pct\n",
       "0                   IdCliente   object  127255    0   0.0 %   24122    18.96 %\n",
       "1               NombreCliente   object  127255    0   0.0 %   21840    17.16 %\n",
       "2                    Empleado  float64  127255    0   0.0 %      56     0.04 %\n",
       "3                  Referencia   object  127255    0   0.0 %    1854     1.46 %\n",
       "4                 Descripcion   object  127255    0   0.0 %    1814     1.43 %\n",
       "5               CodigoFamilia  float64  127255    0   0.0 %       5      0.0 %\n",
       "6                     Familia   object  127255    0   0.0 %       5      0.0 %\n",
       "7                    Cantidad   object  127255    0   0.0 %     213     0.17 %\n",
       "8                      Ventas   object  127255    0   0.0 %   14279    11.22 %\n",
       "9                   Localidad   object  127255    0   0.0 %       6      0.0 %\n",
       "10                       Sede   object  127255    0   0.0 %       7     0.01 %\n",
       "11                       Area  float64  127255    0   0.0 %       7     0.01 %"
      ]
     },
     "execution_count": 42,
     "metadata": {},
     "output_type": "execute_result"
    }
   ],
   "source": [
    "display(ventas.sample(3))\n",
    "data_info(ventas, \"ventas\")"
   ]
  },
  {
   "cell_type": "markdown",
   "metadata": {},
   "source": [
    "<div>\n",
    "    <h4>Evaluación de cada columna</h4>\n",
    "    <ol>\n",
    "        <li> <b>IdCliente</b>: object - código alfanumérico</li><br />\n",
    "        <li> <b>NombreCliente</b>: object - string = Nombre, Apellido</li><br />\n",
    "        <li> <b>>> Empleado</b>: float - cambiar a int</li><br />\n",
    "        <li> <b>Referencia</b>: object: categoría ordinal</li><br />\n",
    "        <li> <b>Descripcion</b>: object: categoria cualitativa </li><br />\n",
    "        <li> <b>>> CodigoFamilia</b>: float64: Cambiar a int</li><br />\n",
    "        <li> <b>Familia</b>: object: categoria cualitativa</li><br />\n",
    "        <li> <b>>>Cantidad</b>: object: cambiar a int</li><br />\n",
    "        <li> <b>>> Ventas</b>: int: cambiar a float</li><br />\n",
    "        <li> <b>Localidad</b>: object: categoria bussines</li><br />\n",
    "        <li> <b>>> Area</b>: float: cambiar a int</li><br />\n",
    "    </ol>\n",
    "</div>"
   ]
  },
  {
   "cell_type": "code",
   "execution_count": 43,
   "metadata": {},
   "outputs": [],
   "source": [
    "from paquete_proyecto.iniciando.variables import ajustar_tipos"
   ]
  },
  {
   "cell_type": "code",
   "execution_count": 44,
   "metadata": {},
   "outputs": [],
   "source": [
    "ventas, ventas_sin_duplicados = ajustar_tipos(ventas), ajustar_tipos(ventas_sin_duplicados)"
   ]
  },
  {
   "cell_type": "markdown",
   "metadata": {},
   "source": [
    "# CREANDO LAS REPRESENTACIONES TEMPORALES\n",
    "Para cada una de las variables, debería haber una representación temporal, en el que cada registro represente una día unicamente"
   ]
  },
  {
   "cell_type": "code",
   "execution_count": 45,
   "metadata": {},
   "outputs": [
    {
     "data": {
      "text/html": [
       "<div>\n",
       "<style scoped>\n",
       "    .dataframe tbody tr th:only-of-type {\n",
       "        vertical-align: middle;\n",
       "    }\n",
       "\n",
       "    .dataframe tbody tr th {\n",
       "        vertical-align: top;\n",
       "    }\n",
       "\n",
       "    .dataframe thead th {\n",
       "        text-align: right;\n",
       "    }\n",
       "</style>\n",
       "<table border=\"1\" class=\"dataframe\">\n",
       "  <thead>\n",
       "    <tr style=\"text-align: right;\">\n",
       "      <th>Localidad</th>\n",
       "      <th>Barrios unidos</th>\n",
       "      <th>Bogota</th>\n",
       "      <th>Engativa</th>\n",
       "      <th>Puente aranda</th>\n",
       "      <th>Suba</th>\n",
       "      <th>Usaquen</th>\n",
       "    </tr>\n",
       "    <tr>\n",
       "      <th>Fecha</th>\n",
       "      <th></th>\n",
       "      <th></th>\n",
       "      <th></th>\n",
       "      <th></th>\n",
       "      <th></th>\n",
       "      <th></th>\n",
       "    </tr>\n",
       "  </thead>\n",
       "  <tbody>\n",
       "    <tr>\n",
       "      <th>2016-01-09</th>\n",
       "      <td>7.0</td>\n",
       "      <td>16.0</td>\n",
       "      <td>68.0</td>\n",
       "      <td>11.0</td>\n",
       "      <td>19.0</td>\n",
       "      <td>11.0</td>\n",
       "    </tr>\n",
       "    <tr>\n",
       "      <th>2016-01-10</th>\n",
       "      <td>6.0</td>\n",
       "      <td>19.0</td>\n",
       "      <td>37.0</td>\n",
       "      <td>4.0</td>\n",
       "      <td>22.0</td>\n",
       "      <td>8.0</td>\n",
       "    </tr>\n",
       "    <tr>\n",
       "      <th>2016-01-11</th>\n",
       "      <td>7.0</td>\n",
       "      <td>17.0</td>\n",
       "      <td>100.0</td>\n",
       "      <td>29.0</td>\n",
       "      <td>13.0</td>\n",
       "      <td>5.0</td>\n",
       "    </tr>\n",
       "    <tr>\n",
       "      <th>2016-01-12</th>\n",
       "      <td>5.0</td>\n",
       "      <td>14.0</td>\n",
       "      <td>107.0</td>\n",
       "      <td>5.0</td>\n",
       "      <td>17.0</td>\n",
       "      <td>12.0</td>\n",
       "    </tr>\n",
       "    <tr>\n",
       "      <th>2016-02-09</th>\n",
       "      <td>3.0</td>\n",
       "      <td>1.0</td>\n",
       "      <td>46.0</td>\n",
       "      <td>33.0</td>\n",
       "      <td>11.0</td>\n",
       "      <td>7.0</td>\n",
       "    </tr>\n",
       "    <tr>\n",
       "      <th>...</th>\n",
       "      <td>...</td>\n",
       "      <td>...</td>\n",
       "      <td>...</td>\n",
       "      <td>...</td>\n",
       "      <td>...</td>\n",
       "      <td>...</td>\n",
       "    </tr>\n",
       "    <tr>\n",
       "      <th>2020-10-02</th>\n",
       "      <td>5.0</td>\n",
       "      <td>17.0</td>\n",
       "      <td>79.0</td>\n",
       "      <td>11.0</td>\n",
       "      <td>13.0</td>\n",
       "      <td>NaN</td>\n",
       "    </tr>\n",
       "    <tr>\n",
       "      <th>2020-10-03</th>\n",
       "      <td>3.0</td>\n",
       "      <td>NaN</td>\n",
       "      <td>41.0</td>\n",
       "      <td>20.0</td>\n",
       "      <td>16.0</td>\n",
       "      <td>8.0</td>\n",
       "    </tr>\n",
       "    <tr>\n",
       "      <th>2020-11-01</th>\n",
       "      <td>2.0</td>\n",
       "      <td>2.0</td>\n",
       "      <td>49.0</td>\n",
       "      <td>12.0</td>\n",
       "      <td>14.0</td>\n",
       "      <td>9.0</td>\n",
       "    </tr>\n",
       "    <tr>\n",
       "      <th>2020-11-02</th>\n",
       "      <td>1.0</td>\n",
       "      <td>12.0</td>\n",
       "      <td>76.0</td>\n",
       "      <td>26.0</td>\n",
       "      <td>4.0</td>\n",
       "      <td>2.0</td>\n",
       "    </tr>\n",
       "    <tr>\n",
       "      <th>2020-12-02</th>\n",
       "      <td>9.0</td>\n",
       "      <td>22.0</td>\n",
       "      <td>148.0</td>\n",
       "      <td>9.0</td>\n",
       "      <td>8.0</td>\n",
       "      <td>5.0</td>\n",
       "    </tr>\n",
       "  </tbody>\n",
       "</table>\n",
       "<p>1066 rows × 6 columns</p>\n",
       "</div>"
      ],
      "text/plain": [
       "Localidad   Barrios unidos  Bogota  Engativa  Puente aranda  Suba  Usaquen\n",
       "Fecha                                                                     \n",
       "2016-01-09             7.0    16.0      68.0           11.0  19.0     11.0\n",
       "2016-01-10             6.0    19.0      37.0            4.0  22.0      8.0\n",
       "2016-01-11             7.0    17.0     100.0           29.0  13.0      5.0\n",
       "2016-01-12             5.0    14.0     107.0            5.0  17.0     12.0\n",
       "2016-02-09             3.0     1.0      46.0           33.0  11.0      7.0\n",
       "...                    ...     ...       ...            ...   ...      ...\n",
       "2020-10-02             5.0    17.0      79.0           11.0  13.0      NaN\n",
       "2020-10-03             3.0     NaN      41.0           20.0  16.0      8.0\n",
       "2020-11-01             2.0     2.0      49.0           12.0  14.0      9.0\n",
       "2020-11-02             1.0    12.0      76.0           26.0   4.0      2.0\n",
       "2020-12-02             9.0    22.0     148.0            9.0   8.0      5.0\n",
       "\n",
       "[1066 rows x 6 columns]"
      ]
     },
     "execution_count": 45,
     "metadata": {},
     "output_type": "execute_result"
    }
   ],
   "source": [
    "# crear una pivot table. que en el indice tenga fechas, en las columnas tenga localidad, y que los valores sean la cantidad de clientes que tuvo.\n",
    "\n",
    "pd.pivot_table(ventas, values=\"IdCliente\", index=\"Fecha\", columns=\"Localidad\", aggfunc=\"count\")"
   ]
  },
  {
   "cell_type": "code",
   "execution_count": 46,
   "metadata": {},
   "outputs": [
    {
     "name": "stdout",
     "output_type": "stream",
     "text": [
      "Al parecer por cada transacción hay un empleado, no hay 2 transacciones realizadas por el mismo empleado en 1 dia\n"
     ]
    }
   ],
   "source": [
    "# crear una pivot table como la anterior, que en los values tenga cantidad de empleados\n",
    "pd.pivot_table(ventas, values=\"Empleado\", index=\"Fecha\", columns=\"Localidad\", aggfunc=\"count\")\n",
    "\n",
    "print ('Al parecer por cada transacción hay un empleado, no hay 2 transacciones realizadas por el mismo empleado en 1 dia')"
   ]
  },
  {
   "cell_type": "code",
   "execution_count": 47,
   "metadata": {},
   "outputs": [
    {
     "data": {
      "text/plain": [
       "array(['LLANTA', 'SERVICIOS', 'REENCAUCHE', 'LUBRICANTES', 'FILTROS'],\n",
       "      dtype=object)"
      ]
     },
     "execution_count": 47,
     "metadata": {},
     "output_type": "execute_result"
    }
   ],
   "source": [
    "ventas.Familia.unique()"
   ]
  },
  {
   "cell_type": "markdown",
   "metadata": {},
   "source": [
    "# COMPLETANDO EL DATASET\n",
    "\n",
    "Primero tenemos que armar cada una de las series temporales\n",
    "\n",
    "Para poder aplicar Cross-Validation a la serie temporal, es necesario completar con las fechas faltantes con algun valor default en sus variables. De esta forma podremos garantizar que nuestro folds representan el mismo timedelta."
   ]
  },
  {
   "cell_type": "code",
   "execution_count": 48,
   "metadata": {},
   "outputs": [
    {
     "data": {
      "text/plain": [
       "DatetimeIndex(['2016-01-09', '2016-01-10', '2016-01-11', '2016-01-12',\n",
       "               '2016-01-13', '2016-01-14', '2016-01-15', '2016-01-16',\n",
       "               '2016-01-17', '2016-01-18',\n",
       "               ...\n",
       "               '2020-11-23', '2020-11-24', '2020-11-25', '2020-11-26',\n",
       "               '2020-11-27', '2020-11-28', '2020-11-29', '2020-11-30',\n",
       "               '2020-12-01', '2020-12-02'],\n",
       "              dtype='datetime64[ns]', length=1790, freq='D')"
      ]
     },
     "execution_count": 48,
     "metadata": {},
     "output_type": "execute_result"
    }
   ],
   "source": [
    "start_date = ventas.index.min()\n",
    "end_date = ventas.index.max()\n",
    "\n",
    "date_range = pd.date_range(start=start_date, end=end_date)\n",
    "date_range\n",
    "\n",
    "## HAY QUE TOMAR UN CRITERIO DE UNIFICACION DEL DATASET VENTAS: MIRAR TEST_2\n",
    "## Primero analizar que información se pierde al hacer un sum(ventas), y luego recuperar esa información con pivot-tables\n",
    "# df2 = ventas.reindex(date_range).fillna(0.0).rename_axis('Fecha').reset_index()\n",
    "# df2\n"
   ]
  },
  {
   "cell_type": "markdown",
   "metadata": {},
   "source": [
    "# ARMANDO MUESTREOS TEMPORALES\n",
    "\n",
    "Vamos a hacer cross validation con scikit learn sobre un DataFrame de prueba"
   ]
  },
  {
   "cell_type": "code",
   "execution_count": 49,
   "metadata": {},
   "outputs": [
    {
     "data": {
      "text/html": [
       "<div>\n",
       "<style scoped>\n",
       "    .dataframe tbody tr th:only-of-type {\n",
       "        vertical-align: middle;\n",
       "    }\n",
       "\n",
       "    .dataframe tbody tr th {\n",
       "        vertical-align: top;\n",
       "    }\n",
       "\n",
       "    .dataframe thead th {\n",
       "        text-align: right;\n",
       "    }\n",
       "</style>\n",
       "<table border=\"1\" class=\"dataframe\">\n",
       "  <thead>\n",
       "    <tr style=\"text-align: right;\">\n",
       "      <th></th>\n",
       "      <th>default</th>\n",
       "    </tr>\n",
       "    <tr>\n",
       "      <th>Fecha</th>\n",
       "      <th></th>\n",
       "    </tr>\n",
       "  </thead>\n",
       "  <tbody>\n",
       "    <tr>\n",
       "      <th>2016-01-09</th>\n",
       "      <td>0.0</td>\n",
       "    </tr>\n",
       "    <tr>\n",
       "      <th>2016-01-10</th>\n",
       "      <td>0.0</td>\n",
       "    </tr>\n",
       "    <tr>\n",
       "      <th>2016-01-11</th>\n",
       "      <td>0.0</td>\n",
       "    </tr>\n",
       "    <tr>\n",
       "      <th>2016-01-12</th>\n",
       "      <td>0.0</td>\n",
       "    </tr>\n",
       "    <tr>\n",
       "      <th>2016-01-13</th>\n",
       "      <td>0.0</td>\n",
       "    </tr>\n",
       "    <tr>\n",
       "      <th>...</th>\n",
       "      <td>...</td>\n",
       "    </tr>\n",
       "    <tr>\n",
       "      <th>2020-11-28</th>\n",
       "      <td>0.0</td>\n",
       "    </tr>\n",
       "    <tr>\n",
       "      <th>2020-11-29</th>\n",
       "      <td>0.0</td>\n",
       "    </tr>\n",
       "    <tr>\n",
       "      <th>2020-11-30</th>\n",
       "      <td>0.0</td>\n",
       "    </tr>\n",
       "    <tr>\n",
       "      <th>2020-12-01</th>\n",
       "      <td>0.0</td>\n",
       "    </tr>\n",
       "    <tr>\n",
       "      <th>2020-12-02</th>\n",
       "      <td>0.0</td>\n",
       "    </tr>\n",
       "  </tbody>\n",
       "</table>\n",
       "<p>1790 rows × 1 columns</p>\n",
       "</div>"
      ],
      "text/plain": [
       "            default\n",
       "Fecha              \n",
       "2016-01-09      0.0\n",
       "2016-01-10      0.0\n",
       "2016-01-11      0.0\n",
       "2016-01-12      0.0\n",
       "2016-01-13      0.0\n",
       "...             ...\n",
       "2020-11-28      0.0\n",
       "2020-11-29      0.0\n",
       "2020-11-30      0.0\n",
       "2020-12-01      0.0\n",
       "2020-12-02      0.0\n",
       "\n",
       "[1790 rows x 1 columns]"
      ]
     },
     "execution_count": 49,
     "metadata": {},
     "output_type": "execute_result"
    }
   ],
   "source": [
    "muestra = pd.DataFrame([0.0 for i in range(len(date_range))], index=date_range, columns=['default'])\n",
    "muestra.index.name = \"Fecha\"\n",
    "muestra"
   ]
  },
  {
   "cell_type": "code",
   "execution_count": 50,
   "metadata": {},
   "outputs": [],
   "source": [
    "from sklearn.model_selection import TimeSeriesSplit"
   ]
  },
  {
   "cell_type": "code",
   "execution_count": 51,
   "metadata": {},
   "outputs": [],
   "source": [
    "# Son 1790 / 30 = 59,66 días por fold\n",
    "# k = 29\n",
    "# splitter = TimeSeriesSplit(n_splits=k)\n",
    "splitter = TimeSeriesSplit(n_splits=29, max_train_size=60, test_size=60)"
   ]
  },
  {
   "cell_type": "code",
   "execution_count": 52,
   "metadata": {},
   "outputs": [],
   "source": [
    "train = []\n",
    "test = [] #only purpouse is to extract last element\n",
    "for train_index, test_index in splitter.split(muestra.index):\n",
    "    concat_index, predict_index = muestra.index[train_index], muestra.index[test_index]\n",
    "    train.append(muestra.loc[concat_index])\n",
    "    test.append(muestra.loc[predict_index])\n",
    "\n",
    "# train.append(test[-1])"
   ]
  },
  {
   "cell_type": "code",
   "execution_count": 53,
   "metadata": {},
   "outputs": [
    {
     "data": {
      "text/plain": [
       "29"
      ]
     },
     "execution_count": 53,
     "metadata": {},
     "output_type": "execute_result"
    }
   ],
   "source": [
    "test[0]\n",
    "len(train[3])\n",
    "test[-1]\n",
    "train[0]\n",
    "len(train)"
   ]
  },
  {
   "cell_type": "code",
   "execution_count": 54,
   "metadata": {},
   "outputs": [
    {
     "name": "stdout",
     "output_type": "stream",
     "text": [
      "2016-01-09 00:00:00\n",
      "2016-02-27 00:00:00\n"
     ]
    }
   ],
   "source": [
    "print (train[0].index.min())\n",
    "print (train[0].index.max())"
   ]
  },
  {
   "cell_type": "code",
   "execution_count": 55,
   "metadata": {},
   "outputs": [
    {
     "name": "stdout",
     "output_type": "stream",
     "text": [
      "2016-02-28 00:00:00\n",
      "2016-04-27 00:00:00\n"
     ]
    }
   ],
   "source": [
    "print (train[1].index.min())\n",
    "print (train[1].index.max())"
   ]
  },
  {
   "cell_type": "code",
   "execution_count": 56,
   "metadata": {},
   "outputs": [
    {
     "name": "stdout",
     "output_type": "stream",
     "text": [
      "2016-04-28 00:00:00\n",
      "2016-06-26 00:00:00\n"
     ]
    }
   ],
   "source": [
    "print (train[2].index.min())\n",
    "print (train[2].index.max())"
   ]
  },
  {
   "cell_type": "code",
   "execution_count": 57,
   "metadata": {},
   "outputs": [
    {
     "name": "stdout",
     "output_type": "stream",
     "text": [
      "2016-06-27 00:00:00\n",
      "2016-08-25 00:00:00\n"
     ]
    }
   ],
   "source": [
    "print (train[3].index.min())\n",
    "print (train[3].index.max())"
   ]
  },
  {
   "cell_type": "code",
   "execution_count": 58,
   "metadata": {},
   "outputs": [
    {
     "name": "stdout",
     "output_type": "stream",
     "text": [
      "2016-08-26 00:00:00\n",
      "2016-10-24 00:00:00\n"
     ]
    }
   ],
   "source": [
    "print (train[4].index.min())\n",
    "print (train[4].index.max())"
   ]
  },
  {
   "cell_type": "code",
   "execution_count": 59,
   "metadata": {},
   "outputs": [
    {
     "name": "stdout",
     "output_type": "stream",
     "text": [
      "2016-10-25 00:00:00\n",
      "2016-12-23 00:00:00\n"
     ]
    }
   ],
   "source": [
    "print (train[5].index.min())\n",
    "print (train[5].index.max())"
   ]
  },
  {
   "cell_type": "code",
   "execution_count": 60,
   "metadata": {},
   "outputs": [
    {
     "name": "stdout",
     "output_type": "stream",
     "text": [
      "2020-08-05 00:00:00\n",
      "2020-10-03 00:00:00\n"
     ]
    }
   ],
   "source": [
    "print (train[-1].index.min())\n",
    "print (train[-1].index.max())"
   ]
  },
  {
   "cell_type": "code",
   "execution_count": 61,
   "metadata": {},
   "outputs": [
    {
     "name": "stdout",
     "output_type": "stream",
     "text": [
      "2020-10-04 00:00:00\n",
      "2020-12-02 00:00:00\n"
     ]
    }
   ],
   "source": [
    "print (test[-1].index.min())\n",
    "print (test[-1].index.max())"
   ]
  },
  {
   "cell_type": "code",
   "execution_count": 62,
   "metadata": {},
   "outputs": [],
   "source": [
    "train.append(test[-1])"
   ]
  },
  {
   "cell_type": "markdown",
   "metadata": {},
   "source": [
    "# Obteniendo muestras bimensuales\n",
    "\n",
    "Por más que no hay unido los valores díarios en un solo valor por día, voy a intentar aislar todas las fechas"
   ]
  },
  {
   "cell_type": "code",
   "execution_count": 63,
   "metadata": {},
   "outputs": [
    {
     "data": {
      "text/plain": [
       "DatetimeIndex(['2016-01-09', '2016-01-10', '2016-01-11', '2016-01-12',\n",
       "               '2016-01-13', '2016-01-14', '2016-01-15', '2016-01-16',\n",
       "               '2016-01-17', '2016-01-18', '2016-01-19', '2016-01-20',\n",
       "               '2016-01-21', '2016-01-22', '2016-01-23', '2016-01-24',\n",
       "               '2016-01-25', '2016-01-26', '2016-01-27', '2016-01-28',\n",
       "               '2016-01-29', '2016-01-30', '2016-01-31', '2016-02-01',\n",
       "               '2016-02-02', '2016-02-03', '2016-02-04', '2016-02-05',\n",
       "               '2016-02-06', '2016-02-07', '2016-02-08', '2016-02-09',\n",
       "               '2016-02-10', '2016-02-11', '2016-02-12', '2016-02-13',\n",
       "               '2016-02-14', '2016-02-15', '2016-02-16', '2016-02-17',\n",
       "               '2016-02-18', '2016-02-19', '2016-02-20', '2016-02-21',\n",
       "               '2016-02-22', '2016-02-23', '2016-02-24', '2016-02-25',\n",
       "               '2016-02-26', '2016-02-27'],\n",
       "              dtype='datetime64[ns]', name='Fecha', freq=None)"
      ]
     },
     "execution_count": 63,
     "metadata": {},
     "output_type": "execute_result"
    }
   ],
   "source": [
    "# seleccion de fechas\n",
    "fechas = train[0].index \n",
    "\n",
    "fechas\n",
    "# ventas.loc[fechas] # hay fechas que no están en el index"
   ]
  },
  {
   "cell_type": "code",
   "execution_count": 65,
   "metadata": {},
   "outputs": [],
   "source": [
    "## Fechas que faltan: [Timestamp('2016-01-13 00:00:00'), Timestamp('2016-01-14 00:00:00'), Timestamp('2016-01-15 00:00:00')\n",
    "\n",
    "pd.merge(ventas.reset_index(), muestra.reset_index(), on=\"Fecha\", how=\"right\").iloc[550:600]\n",
    "\n",
    "ventas_2 = pd.merge(ventas.reset_index(), muestra.reset_index(), on=\"Fecha\", how=\"right\")\n",
    "ventas_2.set_index(\"Fecha\", inplace=True)"
   ]
  },
  {
   "cell_type": "code",
   "execution_count": 81,
   "metadata": {},
   "outputs": [
    {
     "data": {
      "text/plain": [
       "[Text(0.5, 1.0, 'Cantidad de ventas bimensuales')]"
      ]
     },
     "execution_count": 81,
     "metadata": {},
     "output_type": "execute_result"
    },
    {
     "data": {
      "image/png": "[encoded data removed]",
      "text/plain": [
       "<Figure size 640x480 with 1 Axes>"
      ]
     },
     "metadata": {},
     "output_type": "display_data"
    }
   ],
   "source": [
    "# seleccion de fechas\n",
    "datasets_bimensuales = []\n",
    "\n",
    "for indice in range(len(train)):\n",
    "    fechas = train[indice].index \n",
    "    datasets_bimensuales.append(ventas_2.loc[fechas].dropna()) # hay fechas que no están en el index\n",
    "\n",
    "longitud = []\n",
    "for elemento in datasets_bimensuales:\n",
    "    # print (len(elemento))\n",
    "    longitud.append(len(elemento))\n",
    "\n",
    "pd.Series(longitud).plot.bar().set(title='Cantidad de ventas bimensuales')"
   ]
  },
  {
   "cell_type": "code",
   "execution_count": null,
   "metadata": {},
   "outputs": [],
   "source": []
  },
  {
   "cell_type": "code",
   "execution_count": null,
   "metadata": {},
   "outputs": [
    {
     "data": {
      "text/html": [
       "<div>\n",
       "<style scoped>\n",
       "    .dataframe tbody tr th:only-of-type {\n",
       "        vertical-align: middle;\n",
       "    }\n",
       "\n",
       "    .dataframe tbody tr th {\n",
       "        vertical-align: top;\n",
       "    }\n",
       "\n",
       "    .dataframe thead th {\n",
       "        text-align: right;\n",
       "    }\n",
       "</style>\n",
       "<table border=\"1\" class=\"dataframe\">\n",
       "  <thead>\n",
       "    <tr style=\"text-align: right;\">\n",
       "      <th></th>\n",
       "      <th>Fecha</th>\n",
       "      <th>IdCliente</th>\n",
       "      <th>NombreCliente</th>\n",
       "      <th>Empleado</th>\n",
       "      <th>Referencia</th>\n",
       "      <th>Descripcion</th>\n",
       "      <th>CodigoFamilia</th>\n",
       "      <th>Familia</th>\n",
       "      <th>Cantidad</th>\n",
       "      <th>Ventas</th>\n",
       "      <th>Localidad</th>\n",
       "      <th>Sede</th>\n",
       "      <th>Area</th>\n",
       "      <th>default</th>\n",
       "    </tr>\n",
       "  </thead>\n",
       "  <tbody>\n",
       "    <tr>\n",
       "      <th>0</th>\n",
       "      <td>2016-01-09</td>\n",
       "      <td>C1070956433</td>\n",
       "      <td>PINTO JOHN</td>\n",
       "      <td>24.0</td>\n",
       "      <td>LL-2R-0038</td>\n",
       "      <td>PILOT STREET 110/80-17</td>\n",
       "      <td>101.0</td>\n",
       "      <td>LLANTA</td>\n",
       "      <td>1.0</td>\n",
       "      <td>129310.0</td>\n",
       "      <td>Puente aranda</td>\n",
       "      <td>Calle 13</td>\n",
       "      <td>35.0</td>\n",
       "      <td>0.0</td>\n",
       "    </tr>\n",
       "    <tr>\n",
       "      <th>1</th>\n",
       "      <td>2016-01-09</td>\n",
       "      <td>C19347046</td>\n",
       "      <td>RUIZ LUIS FERNANDO</td>\n",
       "      <td>10.0</td>\n",
       "      <td>SE-CS-2-0001</td>\n",
       "      <td>BALANCEO AUTO</td>\n",
       "      <td>106.0</td>\n",
       "      <td>SERVICIOS</td>\n",
       "      <td>4.0</td>\n",
       "      <td>31035.0</td>\n",
       "      <td>Engativa</td>\n",
       "      <td>Calle 80</td>\n",
       "      <td>31.0</td>\n",
       "      <td>0.0</td>\n",
       "    </tr>\n",
       "    <tr>\n",
       "      <th>2</th>\n",
       "      <td>2016-01-09</td>\n",
       "      <td>C800232717</td>\n",
       "      <td>CORSO Y CIA S EN C</td>\n",
       "      <td>10.0</td>\n",
       "      <td>SE-CS-2-0002</td>\n",
       "      <td>BALANCEO CAMIONETA</td>\n",
       "      <td>106.0</td>\n",
       "      <td>SERVICIOS</td>\n",
       "      <td>4.0</td>\n",
       "      <td>31034.0</td>\n",
       "      <td>Engativa</td>\n",
       "      <td>Calle 80</td>\n",
       "      <td>31.0</td>\n",
       "      <td>0.0</td>\n",
       "    </tr>\n",
       "    <tr>\n",
       "      <th>3</th>\n",
       "      <td>2016-01-09</td>\n",
       "      <td>C79523685</td>\n",
       "      <td>GONZALEZ JUAN CARLOS</td>\n",
       "      <td>10.0</td>\n",
       "      <td>SE-CS-2-0002</td>\n",
       "      <td>BALANCEO CAMIONETA</td>\n",
       "      <td>106.0</td>\n",
       "      <td>SERVICIOS</td>\n",
       "      <td>4.0</td>\n",
       "      <td>31034.0</td>\n",
       "      <td>Engativa</td>\n",
       "      <td>Calle 80</td>\n",
       "      <td>31.0</td>\n",
       "      <td>0.0</td>\n",
       "    </tr>\n",
       "    <tr>\n",
       "      <th>4</th>\n",
       "      <td>2016-01-09</td>\n",
       "      <td>C800214037</td>\n",
       "      <td>EXPRESER SAS</td>\n",
       "      <td>5.0</td>\n",
       "      <td>REB-0063</td>\n",
       "      <td>REENC XZE1 235/75R17.5</td>\n",
       "      <td>102.0</td>\n",
       "      <td>REENCAUCHE</td>\n",
       "      <td>1.0</td>\n",
       "      <td>29892.0</td>\n",
       "      <td>Engativa</td>\n",
       "      <td>Ventas externas</td>\n",
       "      <td>22.0</td>\n",
       "      <td>0.0</td>\n",
       "    </tr>\n",
       "    <tr>\n",
       "      <th>...</th>\n",
       "      <td>...</td>\n",
       "      <td>...</td>\n",
       "      <td>...</td>\n",
       "      <td>...</td>\n",
       "      <td>...</td>\n",
       "      <td>...</td>\n",
       "      <td>...</td>\n",
       "      <td>...</td>\n",
       "      <td>...</td>\n",
       "      <td>...</td>\n",
       "      <td>...</td>\n",
       "      <td>...</td>\n",
       "      <td>...</td>\n",
       "      <td>...</td>\n",
       "    </tr>\n",
       "    <tr>\n",
       "      <th>127974</th>\n",
       "      <td>2020-12-02</td>\n",
       "      <td>C17050457</td>\n",
       "      <td>GAMBOA PAEZ JOSE MARIO</td>\n",
       "      <td>44.0</td>\n",
       "      <td>SE-CS-1-0001</td>\n",
       "      <td>ALINEACION AUTO</td>\n",
       "      <td>106.0</td>\n",
       "      <td>SERVICIOS</td>\n",
       "      <td>1.0</td>\n",
       "      <td>37815.0</td>\n",
       "      <td>Engativa</td>\n",
       "      <td>Calle 80</td>\n",
       "      <td>31.0</td>\n",
       "      <td>0.0</td>\n",
       "    </tr>\n",
       "    <tr>\n",
       "      <th>127975</th>\n",
       "      <td>2020-12-02</td>\n",
       "      <td>C51590721</td>\n",
       "      <td>DAZA MIRIAM</td>\n",
       "      <td>44.0</td>\n",
       "      <td>SE-CS-1-0006</td>\n",
       "      <td>ALINEACION BUS</td>\n",
       "      <td>106.0</td>\n",
       "      <td>SERVICIOS</td>\n",
       "      <td>1.0</td>\n",
       "      <td>37815.0</td>\n",
       "      <td>Engativa</td>\n",
       "      <td>Calle 80</td>\n",
       "      <td>31.0</td>\n",
       "      <td>0.0</td>\n",
       "    </tr>\n",
       "    <tr>\n",
       "      <th>127976</th>\n",
       "      <td>2020-12-02</td>\n",
       "      <td>C860517112</td>\n",
       "      <td>TRANSPORTES ESPECIALES COLEGIOS Y TURISMO SA</td>\n",
       "      <td>50.0</td>\n",
       "      <td>SE-CS-1-0005</td>\n",
       "      <td>ALINEACION BUSETA O CAMION LIVIANO</td>\n",
       "      <td>106.0</td>\n",
       "      <td>SERVICIOS</td>\n",
       "      <td>1.0</td>\n",
       "      <td>37815.0</td>\n",
       "      <td>Puente aranda</td>\n",
       "      <td>Calle 13</td>\n",
       "      <td>35.0</td>\n",
       "      <td>0.0</td>\n",
       "    </tr>\n",
       "    <tr>\n",
       "      <th>127977</th>\n",
       "      <td>2020-12-02</td>\n",
       "      <td>C900315569</td>\n",
       "      <td>VOLVO GROUP COLOMBIA SAS</td>\n",
       "      <td>29.0</td>\n",
       "      <td>SE-CT-1-0003</td>\n",
       "      <td>ALINEACION 3 EJES / CT</td>\n",
       "      <td>106.0</td>\n",
       "      <td>SERVICIOS</td>\n",
       "      <td>1.0</td>\n",
       "      <td>120000.0</td>\n",
       "      <td>Engativa</td>\n",
       "      <td>Ventas externas</td>\n",
       "      <td>22.0</td>\n",
       "      <td>0.0</td>\n",
       "    </tr>\n",
       "    <tr>\n",
       "      <th>127978</th>\n",
       "      <td>2020-12-02</td>\n",
       "      <td>C860517112</td>\n",
       "      <td>TRANSPORTES ESPECIALES COLEGIOS Y TURISMO SA</td>\n",
       "      <td>50.0</td>\n",
       "      <td>SE-CS-2-0004</td>\n",
       "      <td>BALANCEO BUSETA</td>\n",
       "      <td>106.0</td>\n",
       "      <td>SERVICIOS</td>\n",
       "      <td>2.0</td>\n",
       "      <td>26891.0</td>\n",
       "      <td>Puente aranda</td>\n",
       "      <td>Calle 13</td>\n",
       "      <td>35.0</td>\n",
       "      <td>0.0</td>\n",
       "    </tr>\n",
       "  </tbody>\n",
       "</table>\n",
       "<p>127979 rows × 14 columns</p>\n",
       "</div>"
      ],
      "text/plain": [
       "            Fecha    IdCliente                                 NombreCliente  \\\n",
       "0      2016-01-09  C1070956433                                    PINTO JOHN   \n",
       "1      2016-01-09    C19347046                            RUIZ LUIS FERNANDO   \n",
       "2      2016-01-09   C800232717                            CORSO Y CIA S EN C   \n",
       "3      2016-01-09    C79523685                          GONZALEZ JUAN CARLOS   \n",
       "4      2016-01-09   C800214037                                  EXPRESER SAS   \n",
       "...           ...          ...                                           ...   \n",
       "127974 2020-12-02    C17050457                        GAMBOA PAEZ JOSE MARIO   \n",
       "127975 2020-12-02    C51590721                                   DAZA MIRIAM   \n",
       "127976 2020-12-02   C860517112  TRANSPORTES ESPECIALES COLEGIOS Y TURISMO SA   \n",
       "127977 2020-12-02   C900315569                      VOLVO GROUP COLOMBIA SAS   \n",
       "127978 2020-12-02   C860517112  TRANSPORTES ESPECIALES COLEGIOS Y TURISMO SA   \n",
       "\n",
       "        Empleado    Referencia                         Descripcion  \\\n",
       "0           24.0    LL-2R-0038              PILOT STREET 110/80-17   \n",
       "1           10.0  SE-CS-2-0001                       BALANCEO AUTO   \n",
       "2           10.0  SE-CS-2-0002                  BALANCEO CAMIONETA   \n",
       "3           10.0  SE-CS-2-0002                  BALANCEO CAMIONETA   \n",
       "4            5.0      REB-0063              REENC XZE1 235/75R17.5   \n",
       "...          ...           ...                                 ...   \n",
       "127974      44.0  SE-CS-1-0001                     ALINEACION AUTO   \n",
       "127975      44.0  SE-CS-1-0006                      ALINEACION BUS   \n",
       "127976      50.0  SE-CS-1-0005  ALINEACION BUSETA O CAMION LIVIANO   \n",
       "127977      29.0  SE-CT-1-0003              ALINEACION 3 EJES / CT   \n",
       "127978      50.0  SE-CS-2-0004                     BALANCEO BUSETA   \n",
       "\n",
       "        CodigoFamilia     Familia  Cantidad    Ventas      Localidad  \\\n",
       "0               101.0      LLANTA       1.0  129310.0  Puente aranda   \n",
       "1               106.0   SERVICIOS       4.0   31035.0       Engativa   \n",
       "2               106.0   SERVICIOS       4.0   31034.0       Engativa   \n",
       "3               106.0   SERVICIOS       4.0   31034.0       Engativa   \n",
       "4               102.0  REENCAUCHE       1.0   29892.0       Engativa   \n",
       "...               ...         ...       ...       ...            ...   \n",
       "127974          106.0   SERVICIOS       1.0   37815.0       Engativa   \n",
       "127975          106.0   SERVICIOS       1.0   37815.0       Engativa   \n",
       "127976          106.0   SERVICIOS       1.0   37815.0  Puente aranda   \n",
       "127977          106.0   SERVICIOS       1.0  120000.0       Engativa   \n",
       "127978          106.0   SERVICIOS       2.0   26891.0  Puente aranda   \n",
       "\n",
       "                   Sede  Area  default  \n",
       "0              Calle 13  35.0      0.0  \n",
       "1              Calle 80  31.0      0.0  \n",
       "2              Calle 80  31.0      0.0  \n",
       "3              Calle 80  31.0      0.0  \n",
       "4       Ventas externas  22.0      0.0  \n",
       "...                 ...   ...      ...  \n",
       "127974         Calle 80  31.0      0.0  \n",
       "127975         Calle 80  31.0      0.0  \n",
       "127976         Calle 13  35.0      0.0  \n",
       "127977  Ventas externas  22.0      0.0  \n",
       "127978         Calle 13  35.0      0.0  \n",
       "\n",
       "[127979 rows x 14 columns]"
      ]
     },
     "execution_count": 38,
     "metadata": {},
     "output_type": "execute_result"
    }
   ],
   "source": [
    "ventas_2"
   ]
  },
  {
   "cell_type": "code",
   "execution_count": null,
   "metadata": {},
   "outputs": [],
   "source": []
  },
  {
   "cell_type": "code",
   "execution_count": null,
   "metadata": {},
   "outputs": [],
   "source": []
  },
  {
   "cell_type": "code",
   "execution_count": null,
   "metadata": {},
   "outputs": [],
   "source": []
  },
  {
   "cell_type": "code",
   "execution_count": null,
   "metadata": {},
   "outputs": [],
   "source": []
  },
  {
   "cell_type": "code",
   "execution_count": null,
   "metadata": {},
   "outputs": [],
   "source": []
  },
  {
   "cell_type": "code",
   "execution_count": null,
   "metadata": {},
   "outputs": [],
   "source": []
  },
  {
   "cell_type": "code",
   "execution_count": null,
   "metadata": {},
   "outputs": [],
   "source": []
  },
  {
   "cell_type": "code",
   "execution_count": null,
   "metadata": {},
   "outputs": [],
   "source": []
  },
  {
   "cell_type": "code",
   "execution_count": null,
   "metadata": {},
   "outputs": [],
   "source": []
  },
  {
   "cell_type": "code",
   "execution_count": null,
   "metadata": {},
   "outputs": [],
   "source": []
  },
  {
   "cell_type": "code",
   "execution_count": null,
   "metadata": {},
   "outputs": [],
   "source": []
  },
  {
   "cell_type": "code",
   "execution_count": null,
   "metadata": {},
   "outputs": [],
   "source": []
  },
  {
   "cell_type": "code",
   "execution_count": null,
   "metadata": {},
   "outputs": [],
   "source": []
  },
  {
   "cell_type": "code",
   "execution_count": null,
   "metadata": {},
   "outputs": [],
   "source": []
  },
  {
   "cell_type": "code",
   "execution_count": null,
   "metadata": {},
   "outputs": [],
   "source": []
  },
  {
   "cell_type": "code",
   "execution_count": null,
   "metadata": {},
   "outputs": [],
   "source": []
  },
  {
   "cell_type": "code",
   "execution_count": null,
   "metadata": {},
   "outputs": [],
   "source": []
  },
  {
   "cell_type": "code",
   "execution_count": null,
   "metadata": {},
   "outputs": [],
   "source": []
  },
  {
   "cell_type": "code",
   "execution_count": null,
   "metadata": {},
   "outputs": [],
   "source": []
  },
  {
   "cell_type": "code",
   "execution_count": null,
   "metadata": {},
   "outputs": [],
   "source": []
  },
  {
   "cell_type": "code",
   "execution_count": null,
   "metadata": {},
   "outputs": [],
   "source": []
  },
  {
   "cell_type": "code",
   "execution_count": null,
   "metadata": {},
   "outputs": [],
   "source": []
  },
  {
   "cell_type": "code",
   "execution_count": null,
   "metadata": {},
   "outputs": [],
   "source": []
  },
  {
   "cell_type": "code",
   "execution_count": null,
   "metadata": {},
   "outputs": [],
   "source": []
  },
  {
   "cell_type": "code",
   "execution_count": null,
   "metadata": {},
   "outputs": [],
   "source": []
  },
  {
   "cell_type": "code",
   "execution_count": null,
   "metadata": {},
   "outputs": [],
   "source": []
  },
  {
   "cell_type": "code",
   "execution_count": null,
   "metadata": {},
   "outputs": [],
   "source": []
  },
  {
   "cell_type": "code",
   "execution_count": null,
   "metadata": {},
   "outputs": [],
   "source": []
  },
  {
   "cell_type": "code",
   "execution_count": null,
   "metadata": {},
   "outputs": [],
   "source": []
  },
  {
   "cell_type": "code",
   "execution_count": null,
   "metadata": {},
   "outputs": [],
   "source": []
  },
  {
   "cell_type": "code",
   "execution_count": null,
   "metadata": {},
   "outputs": [],
   "source": []
  },
  {
   "cell_type": "code",
   "execution_count": null,
   "metadata": {},
   "outputs": [],
   "source": []
  },
  {
   "cell_type": "code",
   "execution_count": null,
   "metadata": {},
   "outputs": [],
   "source": []
  },
  {
   "cell_type": "code",
   "execution_count": null,
   "metadata": {},
   "outputs": [],
   "source": []
  },
  {
   "cell_type": "code",
   "execution_count": null,
   "metadata": {},
   "outputs": [],
   "source": []
  },
  {
   "cell_type": "code",
   "execution_count": null,
   "metadata": {},
   "outputs": [],
   "source": []
  },
  {
   "cell_type": "code",
   "execution_count": null,
   "metadata": {},
   "outputs": [],
   "source": []
  },
  {
   "cell_type": "code",
   "execution_count": null,
   "metadata": {},
   "outputs": [],
   "source": []
  },
  {
   "cell_type": "code",
   "execution_count": null,
   "metadata": {},
   "outputs": [],
   "source": []
  },
  {
   "cell_type": "code",
   "execution_count": null,
   "metadata": {},
   "outputs": [],
   "source": []
  },
  {
   "cell_type": "code",
   "execution_count": null,
   "metadata": {},
   "outputs": [],
   "source": []
  },
  {
   "cell_type": "code",
   "execution_count": null,
   "metadata": {},
   "outputs": [],
   "source": []
  },
  {
   "cell_type": "code",
   "execution_count": null,
   "metadata": {},
   "outputs": [],
   "source": []
  },
  {
   "cell_type": "code",
   "execution_count": null,
   "metadata": {},
   "outputs": [],
   "source": []
  },
  {
   "cell_type": "code",
   "execution_count": null,
   "metadata": {},
   "outputs": [],
   "source": []
  },
  {
   "cell_type": "code",
   "execution_count": null,
   "metadata": {},
   "outputs": [],
   "source": []
  },
  {
   "cell_type": "code",
   "execution_count": null,
   "metadata": {},
   "outputs": [],
   "source": []
  },
  {
   "cell_type": "code",
   "execution_count": null,
   "metadata": {},
   "outputs": [],
   "source": []
  },
  {
   "cell_type": "code",
   "execution_count": null,
   "metadata": {},
   "outputs": [],
   "source": []
  },
  {
   "cell_type": "code",
   "execution_count": null,
   "metadata": {},
   "outputs": [],
   "source": []
  },
  {
   "cell_type": "code",
   "execution_count": null,
   "metadata": {},
   "outputs": [],
   "source": []
  },
  {
   "cell_type": "code",
   "execution_count": null,
   "metadata": {},
   "outputs": [],
   "source": []
  },
  {
   "cell_type": "code",
   "execution_count": null,
   "metadata": {},
   "outputs": [],
   "source": []
  },
  {
   "cell_type": "code",
   "execution_count": null,
   "metadata": {},
   "outputs": [],
   "source": []
  },
  {
   "cell_type": "code",
   "execution_count": null,
   "metadata": {},
   "outputs": [],
   "source": []
  },
  {
   "cell_type": "code",
   "execution_count": null,
   "metadata": {},
   "outputs": [],
   "source": []
  },
  {
   "cell_type": "code",
   "execution_count": null,
   "metadata": {},
   "outputs": [],
   "source": []
  },
  {
   "cell_type": "code",
   "execution_count": null,
   "metadata": {},
   "outputs": [],
   "source": []
  },
  {
   "cell_type": "code",
   "execution_count": null,
   "metadata": {},
   "outputs": [],
   "source": []
  },
  {
   "cell_type": "code",
   "execution_count": null,
   "metadata": {},
   "outputs": [],
   "source": []
  },
  {
   "cell_type": "code",
   "execution_count": null,
   "metadata": {},
   "outputs": [],
   "source": []
  },
  {
   "cell_type": "code",
   "execution_count": null,
   "metadata": {},
   "outputs": [],
   "source": []
  },
  {
   "cell_type": "code",
   "execution_count": null,
   "metadata": {},
   "outputs": [],
   "source": []
  },
  {
   "cell_type": "code",
   "execution_count": null,
   "metadata": {},
   "outputs": [],
   "source": []
  },
  {
   "cell_type": "code",
   "execution_count": null,
   "metadata": {},
   "outputs": [],
   "source": []
  },
  {
   "cell_type": "code",
   "execution_count": null,
   "metadata": {},
   "outputs": [],
   "source": []
  },
  {
   "cell_type": "code",
   "execution_count": null,
   "metadata": {},
   "outputs": [],
   "source": []
  },
  {
   "cell_type": "code",
   "execution_count": null,
   "metadata": {},
   "outputs": [],
   "source": []
  },
  {
   "cell_type": "code",
   "execution_count": null,
   "metadata": {},
   "outputs": [],
   "source": []
  },
  {
   "cell_type": "code",
   "execution_count": null,
   "metadata": {},
   "outputs": [],
   "source": []
  },
  {
   "cell_type": "code",
   "execution_count": null,
   "metadata": {},
   "outputs": [],
   "source": []
  },
  {
   "cell_type": "code",
   "execution_count": null,
   "metadata": {},
   "outputs": [],
   "source": []
  },
  {
   "cell_type": "code",
   "execution_count": null,
   "metadata": {},
   "outputs": [],
   "source": []
  },
  {
   "cell_type": "code",
   "execution_count": null,
   "metadata": {},
   "outputs": [],
   "source": []
  },
  {
   "cell_type": "code",
   "execution_count": null,
   "metadata": {},
   "outputs": [],
   "source": []
  },
  {
   "cell_type": "code",
   "execution_count": null,
   "metadata": {},
   "outputs": [],
   "source": []
  },
  {
   "cell_type": "code",
   "execution_count": null,
   "metadata": {},
   "outputs": [],
   "source": []
  },
  {
   "cell_type": "code",
   "execution_count": null,
   "metadata": {},
   "outputs": [],
   "source": []
  },
  {
   "cell_type": "code",
   "execution_count": null,
   "metadata": {},
   "outputs": [],
   "source": []
  },
  {
   "cell_type": "code",
   "execution_count": null,
   "metadata": {},
   "outputs": [],
   "source": []
  },
  {
   "cell_type": "code",
   "execution_count": null,
   "metadata": {},
   "outputs": [],
   "source": []
  },
  {
   "cell_type": "code",
   "execution_count": null,
   "metadata": {},
   "outputs": [],
   "source": []
  },
  {
   "cell_type": "code",
   "execution_count": null,
   "metadata": {},
   "outputs": [],
   "source": []
  },
  {
   "cell_type": "code",
   "execution_count": null,
   "metadata": {},
   "outputs": [],
   "source": []
  },
  {
   "cell_type": "code",
   "execution_count": null,
   "metadata": {},
   "outputs": [],
   "source": []
  }
 ],
 "metadata": {
  "kernelspec": {
   "display_name": "Python 3.10.2 ('venv': venv)",
   "language": "python",
   "name": "python3"
  },
  "language_info": {
   "codemirror_mode": {
    "name": "ipython",
    "version": 3
   },
   "file_extension": ".py",
   "mimetype": "text/x-python",
   "name": "python",
   "nbconvert_exporter": "python",
   "pygments_lexer": "ipython3",
   "version": "3.10.2"
  },
  "orig_nbformat": 4,
  "vscode": {
   "interpreter": {
    "hash": "50f4266ce5f7bee8757675e8e75843118b7a28542b944f0e179cff14371a7ffe"
   }
  }
 },
 "nbformat": 4,
 "nbformat_minor": 2
}

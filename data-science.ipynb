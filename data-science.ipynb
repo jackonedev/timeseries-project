{
 "cells": [
  {
   "cell_type": "markdown",
   "metadata": {},
   "source": [
    "# Time Series Project\n",
    "\n",
    "En la primera etapa nos ocupamos de cargar los datos"
   ]
  },
  {
   "cell_type": "markdown",
   "metadata": {},
   "source": [
    "# CARGANDO EL DATASET"
   ]
  },
  {
   "cell_type": "code",
   "execution_count": 1,
   "metadata": {},
   "outputs": [],
   "source": [
    "import pandas as pd # codding\n",
    "import pandas # for annotations\n",
    "\n",
    "import warnings\n",
    "\n",
    "warnings.filterwarnings(\"ignore\")\n",
    "\n",
    "from paquete_proyecto.iniciando.bases import importar_databases\n",
    "from paquete_proyecto.herramientas.data_info import data_info"
   ]
  },
  {
   "cell_type": "code",
   "execution_count": 2,
   "metadata": {},
   "outputs": [
    {
     "name": "stdout",
     "output_type": "stream",
     "text": [
      "La longitud de la serie Nº 1 es de: 127255\n",
      "La longitud de la serie Nº 2 es de: 108794\n"
     ]
    }
   ],
   "source": [
    "ventas, ventas_sin_duplicados = importar_databases()"
   ]
  },
  {
   "cell_type": "code",
   "execution_count": 3,
   "metadata": {},
   "outputs": [
    {
     "data": {
      "text/html": [
       "<div>\n",
       "<style scoped>\n",
       "    .dataframe tbody tr th:only-of-type {\n",
       "        vertical-align: middle;\n",
       "    }\n",
       "\n",
       "    .dataframe tbody tr th {\n",
       "        vertical-align: top;\n",
       "    }\n",
       "\n",
       "    .dataframe thead th {\n",
       "        text-align: right;\n",
       "    }\n",
       "</style>\n",
       "<table border=\"1\" class=\"dataframe\">\n",
       "  <thead>\n",
       "    <tr style=\"text-align: right;\">\n",
       "      <th></th>\n",
       "      <th>IdCliente</th>\n",
       "      <th>NombreCliente</th>\n",
       "      <th>Empleado</th>\n",
       "      <th>Referencia</th>\n",
       "      <th>Descripcion</th>\n",
       "      <th>CodigoFamilia</th>\n",
       "      <th>Familia</th>\n",
       "      <th>Cantidad</th>\n",
       "      <th>Ventas</th>\n",
       "      <th>Localidad</th>\n",
       "      <th>Sede</th>\n",
       "      <th>Area</th>\n",
       "    </tr>\n",
       "    <tr>\n",
       "      <th>Fecha</th>\n",
       "      <th></th>\n",
       "      <th></th>\n",
       "      <th></th>\n",
       "      <th></th>\n",
       "      <th></th>\n",
       "      <th></th>\n",
       "      <th></th>\n",
       "      <th></th>\n",
       "      <th></th>\n",
       "      <th></th>\n",
       "      <th></th>\n",
       "      <th></th>\n",
       "    </tr>\n",
       "  </thead>\n",
       "  <tbody>\n",
       "    <tr>\n",
       "      <th>2017-11-10</th>\n",
       "      <td>C830056475</td>\n",
       "      <td>ABACO SAS</td>\n",
       "      <td>43.0</td>\n",
       "      <td>SE-CS-4-0001</td>\n",
       "      <td>REPARACION MENOR DE LLANTA (DESPINCHE ) TACO</td>\n",
       "      <td>106.0</td>\n",
       "      <td>SERVICIOS</td>\n",
       "      <td>1</td>\n",
       "      <td>16807</td>\n",
       "      <td>Puente aranda</td>\n",
       "      <td>Calle 13</td>\n",
       "      <td>35.0</td>\n",
       "    </tr>\n",
       "    <tr>\n",
       "      <th>2019-11-12</th>\n",
       "      <td>C17710419</td>\n",
       "      <td>VANEGAS CARLOS</td>\n",
       "      <td>55.0</td>\n",
       "      <td>SE-CS-3-0002</td>\n",
       "      <td>MONTAJE CAMION</td>\n",
       "      <td>106.0</td>\n",
       "      <td>SERVICIOS</td>\n",
       "      <td>4</td>\n",
       "      <td>40336</td>\n",
       "      <td>Puente aranda</td>\n",
       "      <td>Calle 13</td>\n",
       "      <td>35.0</td>\n",
       "    </tr>\n",
       "    <tr>\n",
       "      <th>2019-09-20</th>\n",
       "      <td>C3348206</td>\n",
       "      <td>SANTA MARIA URIBE JUAN PEDRO</td>\n",
       "      <td>56.0</td>\n",
       "      <td>SE-CS-11-0002</td>\n",
       "      <td>RECTIFICACION RIN LUJO</td>\n",
       "      <td>106.0</td>\n",
       "      <td>SERVICIOS</td>\n",
       "      <td>2</td>\n",
       "      <td>84034</td>\n",
       "      <td>Usaquen</td>\n",
       "      <td>Santa ana</td>\n",
       "      <td>33.0</td>\n",
       "    </tr>\n",
       "  </tbody>\n",
       "</table>\n",
       "</div>"
      ],
      "text/plain": [
       "             IdCliente                 NombreCliente  Empleado     Referencia  \\\n",
       "Fecha                                                                           \n",
       "2017-11-10  C830056475                     ABACO SAS      43.0   SE-CS-4-0001   \n",
       "2019-11-12   C17710419                VANEGAS CARLOS      55.0   SE-CS-3-0002   \n",
       "2019-09-20    C3348206  SANTA MARIA URIBE JUAN PEDRO      56.0  SE-CS-11-0002   \n",
       "\n",
       "                                             Descripcion  CodigoFamilia  \\\n",
       "Fecha                                                                     \n",
       "2017-11-10  REPARACION MENOR DE LLANTA (DESPINCHE ) TACO          106.0   \n",
       "2019-11-12                                MONTAJE CAMION          106.0   \n",
       "2019-09-20                        RECTIFICACION RIN LUJO          106.0   \n",
       "\n",
       "              Familia Cantidad Ventas      Localidad       Sede  Area  \n",
       "Fecha                                                                  \n",
       "2017-11-10  SERVICIOS        1  16807  Puente aranda   Calle 13  35.0  \n",
       "2019-11-12  SERVICIOS        4  40336  Puente aranda   Calle 13  35.0  \n",
       "2019-09-20  SERVICIOS        2  84034        Usaquen  Santa ana  33.0  "
      ]
     },
     "metadata": {},
     "output_type": "display_data"
    },
    {
     "data": {
      "text/html": [
       "<div>\n",
       "<style scoped>\n",
       "    .dataframe tbody tr th:only-of-type {\n",
       "        vertical-align: middle;\n",
       "    }\n",
       "\n",
       "    .dataframe tbody tr th {\n",
       "        vertical-align: top;\n",
       "    }\n",
       "\n",
       "    .dataframe thead th {\n",
       "        text-align: right;\n",
       "    }\n",
       "</style>\n",
       "<table border=\"1\" class=\"dataframe\">\n",
       "  <thead>\n",
       "    <tr style=\"text-align: right;\">\n",
       "      <th>info de ventas</th>\n",
       "      <th>columna</th>\n",
       "      <th>type</th>\n",
       "      <th>count</th>\n",
       "      <th>NaN</th>\n",
       "      <th>NaN_pct</th>\n",
       "      <th>unique</th>\n",
       "      <th>unique_pct</th>\n",
       "    </tr>\n",
       "  </thead>\n",
       "  <tbody>\n",
       "    <tr>\n",
       "      <th>0</th>\n",
       "      <td>IdCliente</td>\n",
       "      <td>object</td>\n",
       "      <td>127255</td>\n",
       "      <td>0</td>\n",
       "      <td>0.0 %</td>\n",
       "      <td>24122</td>\n",
       "      <td>18.96 %</td>\n",
       "    </tr>\n",
       "    <tr>\n",
       "      <th>1</th>\n",
       "      <td>NombreCliente</td>\n",
       "      <td>object</td>\n",
       "      <td>127255</td>\n",
       "      <td>0</td>\n",
       "      <td>0.0 %</td>\n",
       "      <td>21840</td>\n",
       "      <td>17.16 %</td>\n",
       "    </tr>\n",
       "    <tr>\n",
       "      <th>2</th>\n",
       "      <td>Empleado</td>\n",
       "      <td>float64</td>\n",
       "      <td>127255</td>\n",
       "      <td>0</td>\n",
       "      <td>0.0 %</td>\n",
       "      <td>56</td>\n",
       "      <td>0.04 %</td>\n",
       "    </tr>\n",
       "    <tr>\n",
       "      <th>3</th>\n",
       "      <td>Referencia</td>\n",
       "      <td>object</td>\n",
       "      <td>127255</td>\n",
       "      <td>0</td>\n",
       "      <td>0.0 %</td>\n",
       "      <td>1854</td>\n",
       "      <td>1.46 %</td>\n",
       "    </tr>\n",
       "    <tr>\n",
       "      <th>4</th>\n",
       "      <td>Descripcion</td>\n",
       "      <td>object</td>\n",
       "      <td>127255</td>\n",
       "      <td>0</td>\n",
       "      <td>0.0 %</td>\n",
       "      <td>1814</td>\n",
       "      <td>1.43 %</td>\n",
       "    </tr>\n",
       "    <tr>\n",
       "      <th>5</th>\n",
       "      <td>CodigoFamilia</td>\n",
       "      <td>float64</td>\n",
       "      <td>127255</td>\n",
       "      <td>0</td>\n",
       "      <td>0.0 %</td>\n",
       "      <td>5</td>\n",
       "      <td>0.0 %</td>\n",
       "    </tr>\n",
       "    <tr>\n",
       "      <th>6</th>\n",
       "      <td>Familia</td>\n",
       "      <td>object</td>\n",
       "      <td>127255</td>\n",
       "      <td>0</td>\n",
       "      <td>0.0 %</td>\n",
       "      <td>5</td>\n",
       "      <td>0.0 %</td>\n",
       "    </tr>\n",
       "    <tr>\n",
       "      <th>7</th>\n",
       "      <td>Cantidad</td>\n",
       "      <td>object</td>\n",
       "      <td>127255</td>\n",
       "      <td>0</td>\n",
       "      <td>0.0 %</td>\n",
       "      <td>213</td>\n",
       "      <td>0.17 %</td>\n",
       "    </tr>\n",
       "    <tr>\n",
       "      <th>8</th>\n",
       "      <td>Ventas</td>\n",
       "      <td>object</td>\n",
       "      <td>127255</td>\n",
       "      <td>0</td>\n",
       "      <td>0.0 %</td>\n",
       "      <td>14279</td>\n",
       "      <td>11.22 %</td>\n",
       "    </tr>\n",
       "    <tr>\n",
       "      <th>9</th>\n",
       "      <td>Localidad</td>\n",
       "      <td>object</td>\n",
       "      <td>127255</td>\n",
       "      <td>0</td>\n",
       "      <td>0.0 %</td>\n",
       "      <td>6</td>\n",
       "      <td>0.0 %</td>\n",
       "    </tr>\n",
       "    <tr>\n",
       "      <th>10</th>\n",
       "      <td>Sede</td>\n",
       "      <td>object</td>\n",
       "      <td>127255</td>\n",
       "      <td>0</td>\n",
       "      <td>0.0 %</td>\n",
       "      <td>7</td>\n",
       "      <td>0.01 %</td>\n",
       "    </tr>\n",
       "    <tr>\n",
       "      <th>11</th>\n",
       "      <td>Area</td>\n",
       "      <td>float64</td>\n",
       "      <td>127255</td>\n",
       "      <td>0</td>\n",
       "      <td>0.0 %</td>\n",
       "      <td>7</td>\n",
       "      <td>0.01 %</td>\n",
       "    </tr>\n",
       "  </tbody>\n",
       "</table>\n",
       "</div>"
      ],
      "text/plain": [
       "info de ventas        columna     type   count  NaN NaN_pct  unique unique_pct\n",
       "0                   IdCliente   object  127255    0   0.0 %   24122    18.96 %\n",
       "1               NombreCliente   object  127255    0   0.0 %   21840    17.16 %\n",
       "2                    Empleado  float64  127255    0   0.0 %      56     0.04 %\n",
       "3                  Referencia   object  127255    0   0.0 %    1854     1.46 %\n",
       "4                 Descripcion   object  127255    0   0.0 %    1814     1.43 %\n",
       "5               CodigoFamilia  float64  127255    0   0.0 %       5      0.0 %\n",
       "6                     Familia   object  127255    0   0.0 %       5      0.0 %\n",
       "7                    Cantidad   object  127255    0   0.0 %     213     0.17 %\n",
       "8                      Ventas   object  127255    0   0.0 %   14279    11.22 %\n",
       "9                   Localidad   object  127255    0   0.0 %       6      0.0 %\n",
       "10                       Sede   object  127255    0   0.0 %       7     0.01 %\n",
       "11                       Area  float64  127255    0   0.0 %       7     0.01 %"
      ]
     },
     "execution_count": 3,
     "metadata": {},
     "output_type": "execute_result"
    }
   ],
   "source": [
    "display(ventas.sample(3))\n",
    "data_info(ventas, \"ventas\")"
   ]
  },
  {
   "cell_type": "markdown",
   "metadata": {},
   "source": [
    "<div>\n",
    "    <h4>Evaluación de cada columna</h4>\n",
    "    <ol>\n",
    "        <li> <b>IdCliente</b>: object - código alfanumérico</li><br />\n",
    "        <li> <b>NombreCliente</b>: object - string = Nombre, Apellido</li><br />\n",
    "        <li> <b>>> Empleado</b>: float - cambiar a int</li><br />\n",
    "        <li> <b>Referencia</b>: object: categoría ordinal</li><br />\n",
    "        <li> <b>Descripcion</b>: object: categoria cualitativa </li><br />\n",
    "        <li> <b>>> CodigoFamilia</b>: float64: Cambiar a int</li><br />\n",
    "        <li> <b>Familia</b>: object: categoria cualitativa</li><br />\n",
    "        <li> <b>>>Cantidad</b>: object: cambiar a int</li><br />\n",
    "        <li> <b>>> Ventas</b>: int: cambiar a float</li><br />\n",
    "        <li> <b>Localidad</b>: object: categoria bussines</li><br />\n",
    "        <li> <b>>> Area</b>: float: cambiar a int</li><br />\n",
    "    </ol>\n",
    "</div>"
   ]
  },
  {
   "cell_type": "code",
   "execution_count": 4,
   "metadata": {},
   "outputs": [],
   "source": [
    "from paquete_proyecto.iniciando.variables import ajustar_tipos"
   ]
  },
  {
   "cell_type": "code",
   "execution_count": 5,
   "metadata": {},
   "outputs": [],
   "source": [
    "data, ventas_sin_duplicados = ajustar_tipos(ventas), ajustar_tipos(ventas_sin_duplicados)"
   ]
  },
  {
   "cell_type": "markdown",
   "metadata": {},
   "source": [
    "# CREANDO LAS REPRESENTACIONES TEMPORALES\n",
    "Para cada una de las variables, debería haber una representación temporal, en el que cada registro represente una día unicamente"
   ]
  },
  {
   "cell_type": "code",
   "execution_count": 6,
   "metadata": {},
   "outputs": [
    {
     "data": {
      "text/html": [
       "<div>\n",
       "<style scoped>\n",
       "    .dataframe tbody tr th:only-of-type {\n",
       "        vertical-align: middle;\n",
       "    }\n",
       "\n",
       "    .dataframe tbody tr th {\n",
       "        vertical-align: top;\n",
       "    }\n",
       "\n",
       "    .dataframe thead th {\n",
       "        text-align: right;\n",
       "    }\n",
       "</style>\n",
       "<table border=\"1\" class=\"dataframe\">\n",
       "  <thead>\n",
       "    <tr style=\"text-align: right;\">\n",
       "      <th>Localidad</th>\n",
       "      <th>Barrios unidos</th>\n",
       "      <th>Bogota</th>\n",
       "      <th>Engativa</th>\n",
       "      <th>Puente aranda</th>\n",
       "      <th>Suba</th>\n",
       "      <th>Usaquen</th>\n",
       "    </tr>\n",
       "    <tr>\n",
       "      <th>Fecha</th>\n",
       "      <th></th>\n",
       "      <th></th>\n",
       "      <th></th>\n",
       "      <th></th>\n",
       "      <th></th>\n",
       "      <th></th>\n",
       "    </tr>\n",
       "  </thead>\n",
       "  <tbody>\n",
       "    <tr>\n",
       "      <th>2016-01-09</th>\n",
       "      <td>7.0</td>\n",
       "      <td>16.0</td>\n",
       "      <td>68.0</td>\n",
       "      <td>11.0</td>\n",
       "      <td>19.0</td>\n",
       "      <td>11.0</td>\n",
       "    </tr>\n",
       "    <tr>\n",
       "      <th>2016-01-10</th>\n",
       "      <td>6.0</td>\n",
       "      <td>19.0</td>\n",
       "      <td>37.0</td>\n",
       "      <td>4.0</td>\n",
       "      <td>22.0</td>\n",
       "      <td>8.0</td>\n",
       "    </tr>\n",
       "    <tr>\n",
       "      <th>2016-01-11</th>\n",
       "      <td>7.0</td>\n",
       "      <td>17.0</td>\n",
       "      <td>100.0</td>\n",
       "      <td>29.0</td>\n",
       "      <td>13.0</td>\n",
       "      <td>5.0</td>\n",
       "    </tr>\n",
       "    <tr>\n",
       "      <th>2016-01-12</th>\n",
       "      <td>5.0</td>\n",
       "      <td>14.0</td>\n",
       "      <td>107.0</td>\n",
       "      <td>5.0</td>\n",
       "      <td>17.0</td>\n",
       "      <td>12.0</td>\n",
       "    </tr>\n",
       "    <tr>\n",
       "      <th>2016-02-09</th>\n",
       "      <td>3.0</td>\n",
       "      <td>1.0</td>\n",
       "      <td>46.0</td>\n",
       "      <td>33.0</td>\n",
       "      <td>11.0</td>\n",
       "      <td>7.0</td>\n",
       "    </tr>\n",
       "    <tr>\n",
       "      <th>...</th>\n",
       "      <td>...</td>\n",
       "      <td>...</td>\n",
       "      <td>...</td>\n",
       "      <td>...</td>\n",
       "      <td>...</td>\n",
       "      <td>...</td>\n",
       "    </tr>\n",
       "    <tr>\n",
       "      <th>2020-10-02</th>\n",
       "      <td>5.0</td>\n",
       "      <td>17.0</td>\n",
       "      <td>79.0</td>\n",
       "      <td>11.0</td>\n",
       "      <td>13.0</td>\n",
       "      <td>NaN</td>\n",
       "    </tr>\n",
       "    <tr>\n",
       "      <th>2020-10-03</th>\n",
       "      <td>3.0</td>\n",
       "      <td>NaN</td>\n",
       "      <td>41.0</td>\n",
       "      <td>20.0</td>\n",
       "      <td>16.0</td>\n",
       "      <td>8.0</td>\n",
       "    </tr>\n",
       "    <tr>\n",
       "      <th>2020-11-01</th>\n",
       "      <td>2.0</td>\n",
       "      <td>2.0</td>\n",
       "      <td>49.0</td>\n",
       "      <td>12.0</td>\n",
       "      <td>14.0</td>\n",
       "      <td>9.0</td>\n",
       "    </tr>\n",
       "    <tr>\n",
       "      <th>2020-11-02</th>\n",
       "      <td>1.0</td>\n",
       "      <td>12.0</td>\n",
       "      <td>76.0</td>\n",
       "      <td>26.0</td>\n",
       "      <td>4.0</td>\n",
       "      <td>2.0</td>\n",
       "    </tr>\n",
       "    <tr>\n",
       "      <th>2020-12-02</th>\n",
       "      <td>9.0</td>\n",
       "      <td>22.0</td>\n",
       "      <td>148.0</td>\n",
       "      <td>9.0</td>\n",
       "      <td>8.0</td>\n",
       "      <td>5.0</td>\n",
       "    </tr>\n",
       "  </tbody>\n",
       "</table>\n",
       "<p>1066 rows × 6 columns</p>\n",
       "</div>"
      ],
      "text/plain": [
       "Localidad   Barrios unidos  Bogota  Engativa  Puente aranda  Suba  Usaquen\n",
       "Fecha                                                                     \n",
       "2016-01-09             7.0    16.0      68.0           11.0  19.0     11.0\n",
       "2016-01-10             6.0    19.0      37.0            4.0  22.0      8.0\n",
       "2016-01-11             7.0    17.0     100.0           29.0  13.0      5.0\n",
       "2016-01-12             5.0    14.0     107.0            5.0  17.0     12.0\n",
       "2016-02-09             3.0     1.0      46.0           33.0  11.0      7.0\n",
       "...                    ...     ...       ...            ...   ...      ...\n",
       "2020-10-02             5.0    17.0      79.0           11.0  13.0      NaN\n",
       "2020-10-03             3.0     NaN      41.0           20.0  16.0      8.0\n",
       "2020-11-01             2.0     2.0      49.0           12.0  14.0      9.0\n",
       "2020-11-02             1.0    12.0      76.0           26.0   4.0      2.0\n",
       "2020-12-02             9.0    22.0     148.0            9.0   8.0      5.0\n",
       "\n",
       "[1066 rows x 6 columns]"
      ]
     },
     "execution_count": 6,
     "metadata": {},
     "output_type": "execute_result"
    }
   ],
   "source": [
    "# crear una pivot table. que en el indice tenga fechas, en las columnas tenga localidad, y que los valores sean la cantidad de clientes que tuvo.\n",
    "\n",
    "pd.pivot_table(data, values=\"IdCliente\", index=\"Fecha\", columns=\"Localidad\", aggfunc=\"count\")"
   ]
  },
  {
   "cell_type": "code",
   "execution_count": 7,
   "metadata": {},
   "outputs": [
    {
     "name": "stdout",
     "output_type": "stream",
     "text": [
      "Al parecer por cada transacción hay un empleado, no hay 2 transacciones realizadas por el mismo empleado en 1 dia\n"
     ]
    }
   ],
   "source": [
    "# crear una pivot table como la anterior, que en los values tenga cantidad de empleados\n",
    "pd.pivot_table(data, values=\"Empleado\", index=\"Fecha\", columns=\"Localidad\", aggfunc=\"count\")\n",
    "\n",
    "print ('Al parecer por cada transacción hay un empleado, no hay 2 transacciones realizadas por el mismo empleado en 1 dia')"
   ]
  },
  {
   "cell_type": "code",
   "execution_count": 8,
   "metadata": {},
   "outputs": [
    {
     "data": {
      "text/plain": [
       "array(['LLANTA', 'SERVICIOS', 'REENCAUCHE', 'LUBRICANTES', 'FILTROS'],\n",
       "      dtype=object)"
      ]
     },
     "execution_count": 8,
     "metadata": {},
     "output_type": "execute_result"
    }
   ],
   "source": [
    "data.Familia.unique()"
   ]
  },
  {
   "cell_type": "markdown",
   "metadata": {},
   "source": [
    "# COMPLETANDO EL DATASET\n",
    "\n",
    "Primero tenemos que armar cada una de las series temporales\n",
    "\n",
    "Para poder aplicar Cross-Validation a la serie temporal, es necesario completar con las fechas faltantes con algun valor default en sus variables. De esta forma podremos garantizar que nuestro folds representan el mismo timedelta."
   ]
  },
  {
   "cell_type": "code",
   "execution_count": 9,
   "metadata": {},
   "outputs": [],
   "source": [
    "from paquete_proyecto.prepocesamiento.inicial import complete_dates"
   ]
  },
  {
   "cell_type": "code",
   "execution_count": 10,
   "metadata": {},
   "outputs": [],
   "source": [
    "data = complete_dates(ventas)\n"
   ]
  },
  {
   "cell_type": "markdown",
   "metadata": {},
   "source": [
    "# ARMANDO MUESTREOS TEMPORALES\n",
    "\n",
    "Vamos a hacer cross validation con scikit learn sobre un DataFrame:\n",
    "\n",
    "Si empezamos por 2016-01-09 y terminamos en 2020-12-02, tenemos 1790 días.\n",
    "\n",
    "Como querémos cortes de igual tamaño, y sin gap al max_train_size y al test_size le damos el mismo valor.\n",
    "\n",
    "Como queremos cortes bimensuales ingresamos los parámetros con valor 60.\n",
    "\n",
    "Para n_splits hacemos 1790 / 60 = 29.8 por eso elegimos 29 folds."
   ]
  },
  {
   "cell_type": "code",
   "execution_count": 11,
   "metadata": {},
   "outputs": [],
   "source": [
    "from paquete_proyecto.prepocesamiento.inicial import timeseries_cv"
   ]
  },
  {
   "cell_type": "code",
   "execution_count": 12,
   "metadata": {},
   "outputs": [],
   "source": [
    "lista_mensual = timeseries_cv(data, 59, 30, 30)"
   ]
  },
  {
   "cell_type": "markdown",
   "metadata": {},
   "source": [
    "## visualizar población lista_mensual"
   ]
  },
  {
   "cell_type": "code",
   "execution_count": 35,
   "metadata": {},
   "outputs": [
    {
     "data": {
      "text/plain": [
       "[Text(0.5, 1.0, 'Cantidad de ventas cada 15 días')]"
      ]
     },
     "execution_count": 35,
     "metadata": {},
     "output_type": "execute_result"
    },
    {
     "data": {
      "image/png": "[encoded data removed]",
      "text/plain": [
       "<Figure size 1500x500 with 1 Axes>"
      ]
     },
     "metadata": {},
     "output_type": "display_data"
    }
   ],
   "source": [
    "longitud = []\n",
    "for elemento in lista_mensual:\n",
    "    longitud.append(len(elemento.dropna()))\n",
    "\n",
    "pd.Series(longitud).plot.bar(figsize=(15,5)).set(title='Cantidad de ventas cada 30 días')"
   ]
  },
  {
   "cell_type": "code",
   "execution_count": 15,
   "metadata": {},
   "outputs": [
    {
     "ename": "AttributeError",
     "evalue": "'function' object has no attribute 'AxesSubplot'",
     "output_type": "error",
     "traceback": [
      "\u001b[1;31m---------------------------------------------------------------------------\u001b[0m",
      "\u001b[1;31mAttributeError\u001b[0m                            Traceback (most recent call last)",
      "Cell \u001b[1;32mIn [15], line 4\u001b[0m\n\u001b[0;32m      1\u001b[0m \u001b[38;5;66;03m#AttributeError: AxesSubplot.set() got an unexpected keyword argument 'style'\u001b[39;00m\n\u001b[0;32m      2\u001b[0m \u001b[38;5;28;01mimport\u001b[39;00m \u001b[38;5;21;01mmatplotlib\u001b[39;00m\u001b[38;5;21;01m.\u001b[39;00m\u001b[38;5;21;01mpyplot\u001b[39;00m \u001b[38;5;28;01mas\u001b[39;00m \u001b[38;5;21;01mplt\u001b[39;00m\n\u001b[1;32m----> 4\u001b[0m help (\u001b[43mplt\u001b[49m\u001b[38;5;241;43m.\u001b[39;49m\u001b[43maxes\u001b[49m\u001b[38;5;241;43m.\u001b[39;49m\u001b[43mAxesSubplot\u001b[49m\u001b[38;5;241m.\u001b[39mset())\n",
      "\u001b[1;31mAttributeError\u001b[0m: 'function' object has no attribute 'AxesSubplot'"
     ]
    }
   ],
   "source": [
    "#AttributeError: AxesSubplot.set() got an unexpected keyword argument 'style'\n",
    "import matplotlib.pyplot as plt\n",
    "\n",
    "### help (plt.axes.AxesSubplot.set())"
   ]
  },
  {
   "cell_type": "code",
   "execution_count": null,
   "metadata": {},
   "outputs": [],
   "source": []
  },
  {
   "cell_type": "code",
   "execution_count": null,
   "metadata": {},
   "outputs": [],
   "source": []
  },
  {
   "cell_type": "code",
   "execution_count": null,
   "metadata": {},
   "outputs": [],
   "source": []
  },
  {
   "cell_type": "code",
   "execution_count": null,
   "metadata": {},
   "outputs": [],
   "source": []
  },
  {
   "cell_type": "code",
   "execution_count": null,
   "metadata": {},
   "outputs": [],
   "source": []
  },
  {
   "cell_type": "code",
   "execution_count": null,
   "metadata": {},
   "outputs": [],
   "source": []
  },
  {
   "cell_type": "code",
   "execution_count": null,
   "metadata": {},
   "outputs": [],
   "source": []
  },
  {
   "cell_type": "code",
   "execution_count": null,
   "metadata": {},
   "outputs": [],
   "source": []
  },
  {
   "cell_type": "code",
   "execution_count": null,
   "metadata": {},
   "outputs": [],
   "source": []
  },
  {
   "cell_type": "code",
   "execution_count": null,
   "metadata": {},
   "outputs": [],
   "source": []
  },
  {
   "cell_type": "code",
   "execution_count": null,
   "metadata": {},
   "outputs": [],
   "source": []
  },
  {
   "cell_type": "code",
   "execution_count": null,
   "metadata": {},
   "outputs": [],
   "source": []
  },
  {
   "cell_type": "code",
   "execution_count": null,
   "metadata": {},
   "outputs": [],
   "source": []
  },
  {
   "cell_type": "code",
   "execution_count": null,
   "metadata": {},
   "outputs": [],
   "source": []
  },
  {
   "cell_type": "code",
   "execution_count": null,
   "metadata": {},
   "outputs": [],
   "source": []
  },
  {
   "cell_type": "code",
   "execution_count": null,
   "metadata": {},
   "outputs": [],
   "source": []
  },
  {
   "cell_type": "code",
   "execution_count": null,
   "metadata": {},
   "outputs": [],
   "source": []
  },
  {
   "cell_type": "code",
   "execution_count": null,
   "metadata": {},
   "outputs": [],
   "source": []
  },
  {
   "cell_type": "code",
   "execution_count": null,
   "metadata": {},
   "outputs": [],
   "source": []
  },
  {
   "cell_type": "code",
   "execution_count": null,
   "metadata": {},
   "outputs": [],
   "source": []
  },
  {
   "cell_type": "code",
   "execution_count": null,
   "metadata": {},
   "outputs": [],
   "source": []
  },
  {
   "cell_type": "code",
   "execution_count": null,
   "metadata": {},
   "outputs": [],
   "source": []
  },
  {
   "cell_type": "code",
   "execution_count": null,
   "metadata": {},
   "outputs": [],
   "source": []
  },
  {
   "cell_type": "code",
   "execution_count": null,
   "metadata": {},
   "outputs": [],
   "source": []
  },
  {
   "cell_type": "code",
   "execution_count": null,
   "metadata": {},
   "outputs": [],
   "source": []
  },
  {
   "cell_type": "code",
   "execution_count": null,
   "metadata": {},
   "outputs": [],
   "source": []
  },
  {
   "cell_type": "code",
   "execution_count": null,
   "metadata": {},
   "outputs": [],
   "source": []
  },
  {
   "cell_type": "code",
   "execution_count": null,
   "metadata": {},
   "outputs": [],
   "source": []
  },
  {
   "cell_type": "code",
   "execution_count": null,
   "metadata": {},
   "outputs": [],
   "source": []
  },
  {
   "cell_type": "code",
   "execution_count": null,
   "metadata": {},
   "outputs": [],
   "source": []
  },
  {
   "cell_type": "code",
   "execution_count": null,
   "metadata": {},
   "outputs": [],
   "source": []
  },
  {
   "cell_type": "code",
   "execution_count": null,
   "metadata": {},
   "outputs": [],
   "source": []
  },
  {
   "cell_type": "code",
   "execution_count": null,
   "metadata": {},
   "outputs": [],
   "source": []
  },
  {
   "cell_type": "code",
   "execution_count": null,
   "metadata": {},
   "outputs": [],
   "source": []
  },
  {
   "cell_type": "code",
   "execution_count": null,
   "metadata": {},
   "outputs": [],
   "source": []
  },
  {
   "cell_type": "code",
   "execution_count": null,
   "metadata": {},
   "outputs": [],
   "source": []
  },
  {
   "cell_type": "code",
   "execution_count": null,
   "metadata": {},
   "outputs": [],
   "source": []
  },
  {
   "cell_type": "code",
   "execution_count": null,
   "metadata": {},
   "outputs": [],
   "source": []
  },
  {
   "cell_type": "code",
   "execution_count": null,
   "metadata": {},
   "outputs": [],
   "source": []
  },
  {
   "cell_type": "code",
   "execution_count": null,
   "metadata": {},
   "outputs": [],
   "source": []
  },
  {
   "cell_type": "code",
   "execution_count": null,
   "metadata": {},
   "outputs": [],
   "source": []
  },
  {
   "cell_type": "code",
   "execution_count": null,
   "metadata": {},
   "outputs": [],
   "source": []
  },
  {
   "cell_type": "code",
   "execution_count": null,
   "metadata": {},
   "outputs": [],
   "source": []
  },
  {
   "cell_type": "code",
   "execution_count": null,
   "metadata": {},
   "outputs": [],
   "source": []
  },
  {
   "cell_type": "code",
   "execution_count": null,
   "metadata": {},
   "outputs": [],
   "source": []
  },
  {
   "cell_type": "code",
   "execution_count": null,
   "metadata": {},
   "outputs": [],
   "source": []
  },
  {
   "cell_type": "code",
   "execution_count": null,
   "metadata": {},
   "outputs": [],
   "source": []
  },
  {
   "cell_type": "code",
   "execution_count": null,
   "metadata": {},
   "outputs": [],
   "source": []
  },
  {
   "cell_type": "code",
   "execution_count": null,
   "metadata": {},
   "outputs": [],
   "source": []
  },
  {
   "cell_type": "code",
   "execution_count": null,
   "metadata": {},
   "outputs": [],
   "source": []
  },
  {
   "cell_type": "code",
   "execution_count": null,
   "metadata": {},
   "outputs": [],
   "source": []
  },
  {
   "cell_type": "code",
   "execution_count": null,
   "metadata": {},
   "outputs": [],
   "source": []
  },
  {
   "cell_type": "code",
   "execution_count": null,
   "metadata": {},
   "outputs": [],
   "source": []
  },
  {
   "cell_type": "code",
   "execution_count": null,
   "metadata": {},
   "outputs": [],
   "source": []
  },
  {
   "cell_type": "code",
   "execution_count": null,
   "metadata": {},
   "outputs": [],
   "source": []
  },
  {
   "cell_type": "code",
   "execution_count": null,
   "metadata": {},
   "outputs": [],
   "source": []
  },
  {
   "cell_type": "code",
   "execution_count": null,
   "metadata": {},
   "outputs": [],
   "source": []
  },
  {
   "cell_type": "code",
   "execution_count": null,
   "metadata": {},
   "outputs": [],
   "source": []
  },
  {
   "cell_type": "code",
   "execution_count": null,
   "metadata": {},
   "outputs": [],
   "source": []
  },
  {
   "cell_type": "code",
   "execution_count": null,
   "metadata": {},
   "outputs": [],
   "source": []
  },
  {
   "cell_type": "code",
   "execution_count": null,
   "metadata": {},
   "outputs": [],
   "source": []
  },
  {
   "cell_type": "code",
   "execution_count": null,
   "metadata": {},
   "outputs": [],
   "source": []
  },
  {
   "cell_type": "code",
   "execution_count": null,
   "metadata": {},
   "outputs": [],
   "source": []
  },
  {
   "cell_type": "code",
   "execution_count": null,
   "metadata": {},
   "outputs": [],
   "source": []
  },
  {
   "cell_type": "code",
   "execution_count": null,
   "metadata": {},
   "outputs": [],
   "source": []
  },
  {
   "cell_type": "code",
   "execution_count": null,
   "metadata": {},
   "outputs": [],
   "source": []
  },
  {
   "cell_type": "code",
   "execution_count": null,
   "metadata": {},
   "outputs": [],
   "source": []
  },
  {
   "cell_type": "code",
   "execution_count": null,
   "metadata": {},
   "outputs": [],
   "source": []
  },
  {
   "cell_type": "code",
   "execution_count": null,
   "metadata": {},
   "outputs": [],
   "source": []
  },
  {
   "cell_type": "code",
   "execution_count": null,
   "metadata": {},
   "outputs": [],
   "source": []
  },
  {
   "cell_type": "code",
   "execution_count": null,
   "metadata": {},
   "outputs": [],
   "source": []
  },
  {
   "cell_type": "code",
   "execution_count": null,
   "metadata": {},
   "outputs": [],
   "source": []
  },
  {
   "cell_type": "code",
   "execution_count": null,
   "metadata": {},
   "outputs": [],
   "source": []
  },
  {
   "cell_type": "code",
   "execution_count": null,
   "metadata": {},
   "outputs": [],
   "source": []
  },
  {
   "cell_type": "code",
   "execution_count": null,
   "metadata": {},
   "outputs": [],
   "source": []
  },
  {
   "cell_type": "code",
   "execution_count": null,
   "metadata": {},
   "outputs": [],
   "source": []
  },
  {
   "cell_type": "code",
   "execution_count": null,
   "metadata": {},
   "outputs": [],
   "source": []
  },
  {
   "cell_type": "code",
   "execution_count": null,
   "metadata": {},
   "outputs": [],
   "source": []
  },
  {
   "cell_type": "code",
   "execution_count": null,
   "metadata": {},
   "outputs": [],
   "source": []
  },
  {
   "cell_type": "code",
   "execution_count": null,
   "metadata": {},
   "outputs": [],
   "source": []
  },
  {
   "cell_type": "code",
   "execution_count": null,
   "metadata": {},
   "outputs": [],
   "source": []
  },
  {
   "cell_type": "code",
   "execution_count": null,
   "metadata": {},
   "outputs": [],
   "source": []
  },
  {
   "cell_type": "code",
   "execution_count": null,
   "metadata": {},
   "outputs": [],
   "source": []
  }
 ],
 "metadata": {
  "kernelspec": {
   "display_name": "Python 3.10.2 ('venv': venv)",
   "language": "python",
   "name": "python3"
  },
  "language_info": {
   "codemirror_mode": {
    "name": "ipython",
    "version": 3
   },
   "file_extension": ".py",
   "mimetype": "text/x-python",
   "name": "python",
   "nbconvert_exporter": "python",
   "pygments_lexer": "ipython3",
   "version": "3.10.2"
  },
  "orig_nbformat": 4,
  "vscode": {
   "interpreter": {
    "hash": "50f4266ce5f7bee8757675e8e75843118b7a28542b944f0e179cff14371a7ffe"
   }
  }
 },
 "nbformat": 4,
 "nbformat_minor": 2
}

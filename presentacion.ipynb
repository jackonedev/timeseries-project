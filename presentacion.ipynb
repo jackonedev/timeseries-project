{
 "cells": [
  {
   "cell_type": "markdown",
   "metadata": {},
   "source": [
    "# Time Series Project\n",
    "\n",
    "Desarrollo de las consignas"
   ]
  },
  {
   "cell_type": "markdown",
   "metadata": {},
   "source": [
    "## PROYECTO: SERVICIO AUTOMOTRIZ \"AUTO MOTORS\"\n",
    "\n",
    "### Empresa colombiana con franquicias ofrece:\n",
    "\n",
    "<div>\n",
    "    <h4>Servicios (completar)</h4>\n",
    "    <ol>\n",
    "        <li>Cambio de aceite</li>\n",
    "        <li>Cambio de filtros</li>\n",
    "    </ol>\n",
    "</div>\n",
    "\n",
    "<div>\n",
    "    <h4>Productos (completar)</h4>\n",
    "    <ol>\n",
    "        <li>Cubiertas</li>\n",
    "        <li>Llantas</li>\n",
    "    </ol>\n",
    "</div>\n",
    "<br />\n",
    "\n",
    "----------\n",
    "<br />\n",
    "\n",
    "### Descripción del proyecto\n",
    "Contamos con datos internos de la empresa como \"Ventas\" y \"Empleados\".<br />\n",
    "Requieren analizar el impacto de la pandemia para evaluar si vender la empresa, si quiebra o si salir a buscar inversores para expansión del negocio hacia otros países.\n",
    "<br />\n",
    "\n",
    "### Objetivo\n",
    "El cliente necesita contar con toda la información ya analizada para tomar una decisión final.\n",
    "\n",
    "### Indicadores\n",
    "- Venta Total<br />\n",
    "- Cantidad de Elementos vendidos<br />\n",
    "- Ganancia Facturación Total de Servicios<br />\n",
    "- Cantidad de Servicios Ofrecidos<br />\n",
    "- Cantidad de Sedes o ubicaciones disponibles<br />\n",
    "- Ventas totales por Sedes en cada Rubro o Familia y Servicios<br />\n",
    "- Ventas realizadas por sus empleados<br />\n",
    "- Ranking de Ventas / Servicios de Empleados<br />\n",
    "\n",
    "### Consideraciones\n",
    "- La decisión de la empresa tiene que verse reflejada tanto en la rentabilidad, como también en el manejo y cantidad de personal. \n",
    "- Expresar los valores en unidades de dolar (hacer conversión con peso colombiano)."
   ]
  },
  {
   "cell_type": "code",
   "execution_count": null,
   "metadata": {},
   "outputs": [],
   "source": [
    "# TODO: Hay días que no hubo actividad comercial, y no tengo registro, necesito incorporar esos dias con valor de Ventas = 0\n",
    "\n",
    "# TODO: Conseguir información historica de la cotización del dolar con el peso colombiano. Y hacer el transpaso de moneda"
   ]
  },
  {
   "cell_type": "markdown",
   "metadata": {},
   "source": [
    "INDICADORES BASICOS:\n",
    "\n",
    "Venta Total<br />\n",
    "Cantidad de Elementos vendidos<br />\n",
    "Ganancia Facturación Total de Servicios<br />\n",
    "Cantidad de Servicios Ofrecidos<br />\n",
    "Cantidad de Sedes o ubicaciones disponibles<br />\n",
    "Ventas totales por Sedes en cada Rubro o Familia y Servicios<br />\n",
    "Ventas realizadas por sus empleados<br />\n",
    "Ranking de Ventas / Servicios de Empleados<br />"
   ]
  },
  {
   "cell_type": "code",
   "execution_count": null,
   "metadata": {},
   "outputs": [],
   "source": []
  }
 ],
 "metadata": {
  "kernelspec": {
   "display_name": "Python 3.10.2 ('venv': venv)",
   "language": "python",
   "name": "python3"
  },
  "language_info": {
   "codemirror_mode": {
    "name": "ipython",
    "version": 3
   },
   "file_extension": ".py",
   "mimetype": "text/x-python",
   "name": "python",
   "nbconvert_exporter": "python",
   "pygments_lexer": "ipython3",
   "version": "3.10.2"
  },
  "orig_nbformat": 4,
  "vscode": {
   "interpreter": {
    "hash": "50f4266ce5f7bee8757675e8e75843118b7a28542b944f0e179cff14371a7ffe"
   }
  }
 },
 "nbformat": 4,
 "nbformat_minor": 2
}

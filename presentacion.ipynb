{
 "cells": [
  {
   "cell_type": "code",
   "execution_count": null,
   "metadata": {},
   "outputs": [],
   "source": []
  },
  {
   "cell_type": "markdown",
   "metadata": {},
   "source": [
    "Acá voy a leer las consignas y encarar uno por uno los planteamentos."
   ]
  },
  {
   "cell_type": "code",
   "execution_count": null,
   "metadata": {},
   "outputs": [],
   "source": []
  },
  {
   "cell_type": "markdown",
   "metadata": {},
   "source": [
    "Venta Total<br />\n",
    "Cantidad de Elementos vendidos<br />\n",
    "Ganancia Facturación Total de Servicios<br />\n",
    "Cantidad de Servicios Ofrecidos<br />\n",
    "Cantidad de Sedes o ubicaciones disponibles<br />\n",
    "Ventas totales por Sedes en cada Rubro o Familia y Servicios<br />\n",
    "Ventas realizadas por sus empleados<br />\n",
    "Ranking de Ventas / Servicios de Empleados<br />\n"
   ]
  },
  {
   "cell_type": "markdown",
   "metadata": {},
   "source": [
    "sum()\n",
    "<!-- groupby -->"
   ]
  },
  {
   "cell_type": "markdown",
   "metadata": {},
   "source": []
  }
 ],
 "metadata": {
  "kernelspec": {
   "display_name": "Python 3.10.2 ('venv': venv)",
   "language": "python",
   "name": "python3"
  },
  "language_info": {
   "name": "python",
   "version": "3.10.2"
  },
  "orig_nbformat": 4,
  "vscode": {
   "interpreter": {
    "hash": "50f4266ce5f7bee8757675e8e75843118b7a28542b944f0e179cff14371a7ffe"
   }
  }
 },
 "nbformat": 4,
 "nbformat_minor": 2
}

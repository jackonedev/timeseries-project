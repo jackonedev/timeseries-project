{
 "cells": [
  {
   "cell_type": "raw",
   "metadata": {},
   "source": [
    "---\n",
    "title: -#idforideas -#idea6\n",
    "author: jackonedev\n",
    "description: Comertial Analysis for a Car Service Company\n",
    "output: slides\n",
    "---"
   ]
  },
  {
   "cell_type": "markdown",
   "metadata": {
    "slideshow": {
     "slide_type": "slide"
    }
   },
   "source": [
    "<h1><u>PROYECTO</u>:</h1>\n",
    "<div class=\"contenido-presentacion\" style=\"position:relative;left:50px;\">\n",
    "    <center>\n",
    "        <a href=\"https://automotorsqueretaro.negocio.site/\"><h3>AUTOMOTORS<br/>Servicio Automotriz</h3></a>\n",
    "        <img width=\"400px\" src=\"https://lh3.googleusercontent.com/27iuCzrWW_yUfBy3C3v5ruBESciuVbaHnM_t2STD4UrVuO60R7KANjGtiT2wKTtI6Dux_d9CSfNxvAdaTX7Z9STSuRDeFu7kdWUi0qAdL0dqiHRibeIOhCVaYUBoSJFdYNB63erC50d_ze8QyBlrNvlfxfCi7Mc7Lt0BTJkH9IN6SoMpZDbo8AsPm3TqeR_fjchii3wJgRgGvtKyB7UIVYRVwX_KK09VjLRCUfjTQv98gp-JAsLvdul9lbAdHLnYGjnEkP8X9G8Q8VzLrhL7Kg3R8-RUzE4V9k4glWGWRPCKU0DteFt0TqidVPVzo7w2pS0nsgnZwd2HhhGzCWyIo1T5IiTZX3u-xx-eNrWepVib07EhUzOlkuRO5ScvvWgw0WiaQy-isC9PV-XMsgX2oVjNhOqgUj57xbUSdX-NHwO6RkldJWQ2GXZn1GO4Z797Vo8pmePtNLqUj--2Cbsa3qzUjtEdOo661PwyZtRES4YmetTl6N40U2d41AgrAJWNMjSz5iw8lm2oPxhFlVNtT0kYRsm_otyqysTBixK3EVhyC5YqZ2X2hLPWyvCUpRuN5aoXGRkJCqxDauDd67tAYj1ld122WjUNFqWk0jZP-GCSJRKpUALesypLU8VGFXnV_MtBbR0eALFQMTnE7ZkfjavrQmupkF4ihaT2A3jmNxdU69VfXfdWEQ_t7moAZ5UKr3LR0TDblvpZydNZHovisb_FaUbEb5qCEOGf0u52InwsWpT9AyUR03ksT8KFLwawj91xnougq9oB52d_IBKMNipqec2t5ul3bsHQB7zf33opTDt9evLUQMPnDcGjMss89VTD0rnxHhsI_GpNMNaxf_y2wLVCeOTwCXOle1OP3Ht5MSgZsVCMak5y035yoCNItTSp3KE0pFA-S-pflltuYOug8AUPeWf7wSwY3g=w600-h300-no?authuser=0\"/>\n",
    "        <a href=\"https://idforideas.com/\"><br />\n",
    "        <b>#idforideas - #idea6</b></a><br />\n",
    "        <b>Año 2022</b><br />\n",
    "    </center>\n",
    "</div><br />\n",
    "<i>Agustín F. Stigliano - Python Developer  |  Data Scientist</i>"
   ]
  },
  {
   "cell_type": "raw",
   "metadata": {},
   "source": []
  },
  {
   "cell_type": "markdown",
   "metadata": {
    "slideshow": {
     "slide_type": "slide"
    }
   },
   "source": [
    "<div style=\"position:relative;height:600px;\">\n",
    "    <div>\n",
    "        <h1><u>TEMAS</u>:</h1><br />\n",
    "        <center>\n",
    "            <h2>Análisis comercial de la empresa</h2>\n",
    "            <h2>Time Series - Data Science - Webapp Deploy</h2>\n",
    "        </center>\n",
    "    </div><br /><br />\n",
    "    <div>\n",
    "        <h1><u>CONTENIDO</u>:</h1><br />\n",
    "        <center>\n",
    "            <ol>\n",
    "                <li><b>Consigna del cliente</b></li>\n",
    "                <li><b>Introducción a la empresa</b></li>\n",
    "                <li><b>Desarrollo del proyecto</b></li>\n",
    "                <li><b>Conclusión</b></li>\n",
    "            </ol>\n",
    "        </center>\n",
    "    </div>\n",
    "</div>"
   ]
  },
  {
   "cell_type": "raw",
   "metadata": {},
   "source": []
  },
  {
   "cell_type": "markdown",
   "metadata": {
    "slideshow": {
     "slide_type": "slide"
    }
   },
   "source": [
    "<div>\n",
    "    <h2>1. Consigna</h2>\n",
    "    <a href=\"/src/consignas.pdf\">Puede acceder a la consigna AQUI</a>\n",
    "    <br /><br />\n",
    "    <h2>Resumen</h2>\n",
    "    <h3><u>Descripción del proyecto</u></h3>\n",
    "    <p>\n",
    "        Nuestro <b>cliente</b> es una <b>compañía Colombiana</b> que ofrece a sus clientes productos y servicios del rubro automotríz.\n",
    "        Contamos con <b>datos</b> internos de la empresa como Ventas, <b>Empleados</b>, <b>Familia</b>, <b>Sede</b>, entre otros.<br/>\n",
    "        Requieren <b>analizar el impacto de la pandemia</b> para evaluar si vender la empresa, si quiebra o si salir a buscar inversores para expansión del negocio hacia otros países.\n",
    "    </p>\n",
    "</div>"
   ]
  },
  {
   "cell_type": "markdown",
   "metadata": {
    "slideshow": {
     "slide_type": "subslide"
    }
   },
   "source": [
    "<div>\n",
    "    <h3><u>Objetivo</u></h3>\n",
    "    <p>El cliente necesita contar con toda la información ya analizada para tomar una decisión final.</p><br />\n",
    "    <h3><u>Consideraciones</u></h3>\n",
    "    <ul>\n",
    "        <li>La decisión de la empresa tiene que verse reflejada tanto en la rentabilidad, como también en el manejo y cantidad de personal.</li>\n",
    "    <li><b>Expresar los valores en unidades de dolar (hacer conversión con peso colombiano).</b></li>\n",
    "    </ul>\n",
    "</div>"
   ]
  },
  {
   "cell_type": "markdown",
   "metadata": {
    "slideshow": {
     "slide_type": "slide"
    }
   },
   "source": [
    "<h2>2. Introducción</h2>\n",
    "<p>Vamos a arrancar analizando las <b>Ventas</b> de nuestro cliente, éste se encuentra en ejercicio <b>desde el año 2016</b>.\n",
    "La información con la que contamos llega <b>hasta finales del 2021</b>.<br />\n",
    "Luego analizaremos la variable <b>Familia</b>, que se divide en 5 rubros comerciales, <b>SERVICIOS</b>, <b>REENCAUCHE</b>, <b>LLANTA</b>, <b>LUBRICANTES</b>, <b>FILTROS</b>. Desarrollamos dos enfoques al respecto, el primer enfoque fue crear dos hiper-categorías: <b>producto</b> y <b>servicio</b>, el segundo enfoque fue separar la variable <b>Familia_SERVICIOS</b> en subcategorías.<br />\n",
    "La segunda variable categórica que analizaremos es <b>Sede</b>, donde buscamos describir el rendimiento económico en función de la ubicación geográfica. Con el uso de histogramas pudimos obtener la <b>rentabilidad porcentual periódica</b>.<br />\n",
    "Para la variable <b>Empleado</b> se hizo un análisis similar al anterior, lo que se buscó fue medir el rendimiento y crear una escala de mérito.<br />\n",
    "<br />\n",
    "Se analiza todo el período <b>(2016-2021)</b> y por separado el último tramo <b>(2019-2021)</b>. Lo importante a recalcar es que los gráficos cuyo período en el titulo es (2019-2021) quiere decir que no considera los datos anteriores.\n",
    "</p>"
   ]
  },
  {
   "cell_type": "markdown",
   "metadata": {
    "slideshow": {
     "slide_type": "slide"
    }
   },
   "source": [
    "<h3><u>Ventas Totales</u></h3>\n",
    "<table>\n",
    "    <tr>\n",
    "        <td><iframeheight=\"300\" frameborder=\"0\" scrolling=\"no\" src=\"//plotly.com/~af.st22/17.embed\"iframeheight=ameiframeheight=ame></td>\n",
    "        <td><iframeheight=\"300\" frameborder=\"0\" scrolling=\"no\" src=\"//plotly.com/~af.st22/19.embediframeheight=rame></td>\n",
    "    </tr>\n",
    "    <tr>\n",
    "        <td><iframeheight=\"300\" frameborder=\"0\" scrolling=\"no\" src=\"//plotly.com/~af.st22/21.emiframewidth=/iframe><br /></td>\n",
    "        <td><iframeheight=\"300\" frameborder=\"0\" scrolling=\"no\" src=\"//plotly.com/~af.st22/23.eiframeheight=</iframe></td>\n",
    "    </tr>\n",
    "</table>\n"
   ]
  },
  {
   "cell_type": "raw",
   "metadata": {},
   "source": []
  },
  {
   "cell_type": "markdown",
   "metadata": {
    "slideshow": {
     "slide_type": "slide"
    }
   },
   "source": [
    "<h3><u>Ventas Totale ESTOY ACA</u></h3>\n",
    "<div>\n",
    "    <div style=\"position:relative;\">\n",
    "        <iframe style=\"width:500px; height:280px;\" src=\"//plotly.com/~af.st22/17.embed\"></iframe>\n",
    "        <iframe style=\"width:500px; height:280px;\" src=\"//plotly.com/~af.st22/19.embed\"></iframe>\n",
    "    </div>\n",
    "    <div style=\"position:relative;\">\n",
    "        <iframe style=\"width:500px; height:280px;\" src=\"//plotly.com/~af.st22/21.embed\"></iframe>\n",
    "        <iframe style=\"width:500px; height:280px;\" src=\"//plotly.com/~af.st22/23.embed\"></iframe>\n",
    "    </div>\n",
    "</div>\n",
    "\n"
   ]
  },
  {
   "cell_type": "markdown",
   "metadata": {
    "slideshow": {
     "slide_type": "slide"
    }
   },
   "source": [
    "<h3><u>Ventas Totales</u></h3>\n",
    "<div>\n",
    "    <iframe width=\"500px\" height=\"300px\" frameborder=\"0\" scrolling=\"no\" src=\"//plotly.com/~af.st22/17.embed\"></iframe>\n",
    "    <iframe width=\"500px\" height=\"300px\" frameborder=\"0\" scrolling=\"no\" src=\"//plotly.com/~af.st22/19.embed\"></iframe>\n",
    "    <iframe width=\"500px\" height=\"300px\" frameborder=\"0\" scrolling=\"no\" src=\"//plotly.com/~af.st22/21.embed\"></iframe>\n",
    "    <iframe width=\"500px\" height=\"300px\" frameborder=\"0\" scrolling=\"no\" src=\"//plotly.com/~af.st22/23.embed\"></iframe>\n",
    "</div>\n",
    "\n"
   ]
  },
  {
   "cell_type": "raw",
   "metadata": {},
   "source": []
  },
  {
   "cell_type": "markdown",
   "metadata": {
    "slideshow": {
     "slide_type": "slide"
    }
   },
   "source": [
    "<h3><u>Ventas Totales backup</u></h3>\n",
    "<table>\n",
    "    <tr>\n",
    "        <td><iframe width=\"600\" height=\"300\" frameborder=\"0\" scrolling=\"no\" src=\"//plotly.com/~af.st22/17.embed\"></iframe></iframe></td>\n",
    "        <td><iframe width=\"600\" height=\"300\" frameborder=\"0\" scrolling=\"no\" src=\"//plotly.com/~af.st22/19.embed\"></iframe></td>\n",
    "    </tr>\n",
    "    <tr>\n",
    "        <td><iframe width=\"600\" height=\"300\" frameborder=\"0\" scrolling=\"no\" src=\"//plotly.com/~af.st22/21.embed\"></iframe><br /></td>\n",
    "        <td><iframe width=\"600\" height=\"300\" frameborder=\"0\" scrolling=\"no\" src=\"//plotly.com/~af.st22/23.embed\"></iframe></td>\n",
    "    </tr>\n",
    "</table>\n"
   ]
  },
  {
   "cell_type": "raw",
   "metadata": {},
   "source": []
  },
  {
   "cell_type": "raw",
   "metadata": {},
   "source": []
  },
  {
   "cell_type": "raw",
   "metadata": {},
   "source": []
  },
  {
   "cell_type": "markdown",
   "metadata": {},
   "source": [
    "<h1>2. Introduccion a la empresa</h1>\n",
    "\n",
    "El desarrollo del siguiente proyecto está dividido de la siguiente forma:\n",
    "\n",
    "- 2.1 Descripción de la empresa\n",
    "- 2.2 Etapas en el desarrollo del código\n",
    "    - 2.2.1 DATA FEED: Descripción del acondicionamiento del dataset original\n",
    "    - 2.2.2 DATA PREPARE: Descripción del tratamiento del dataset de trabajo\n",
    "    - 2.2.3 DATA RESEARCH: Indicadores básicos\n",
    "    - 2.2.4 DATA REPORT: Visualización\n",
    "\n",
    "<br />\n",
    "\n",
    "\n",
    "## 2.1 Descripción de la empresa\n",
    "Empresa Colombiana automotríz con franquicias ofrece:<br /><br />\n",
    "<div>\n",
    "    <h5><b>1) SERVICIOS</b></h5>\n",
    "    Más de 130 servicios personalizados! Entre ellos se encuentra:\n",
    "    <ul>\n",
    "        <li>Alineacion y balanceo de tu automóvil, camioneta o camión</li>\n",
    "        <li>Reparación de llantas</li>\n",
    "        <li>Atención y ajuste del motor, las suspensiones y los frenos</li>\n",
    "        <li>Contratos de servicios para tu flota</li>\n",
    "        <li>...</li>\n",
    "    </ul>\n",
    "\n",
    "**y mucho más!!**\n",
    "\n",
    "</div><br />\n",
    "<div>\n",
    "    <h5><b>2) REENCAUCHE</b></h5>\n",
    "    Servicio de Reencauche! Muchisima capacidad de reencauche del automotor, más de 268 modelos de reencauche!\n",
    "</div><br /><br />\n",
    "\n",
    "<div>\n",
    "    <h5><b>3) FILTROS (FALTA APLICAR REGEX PARA DIFERENCIAR AIRE Y ACEITE)</b></h5>\n",
    "    Venta de productos! Más de 368 tipos de filtros. No sabemos cual es cual.\n",
    "</div><br /><br />\n",
    "\n",
    "<div>\n",
    "    <h5><b>4) LLANTAS</b></h5>\n",
    "    Venta de productos! Más de 973 estilos de llantas a tu medida!\n",
    "</div><br /><br />\n",
    "\n",
    "<div>\n",
    "    <h5><b>5) LUBRICANTES</b></h5>\n",
    "    Venta de productos! Tenemos 75 productos lubricantes para que puedas reducir la fricción de las partes móviles y cuidar al máximo el estado mecánico de tus afectos!\n",
    "    <ul>\n",
    "        <li>Aceite marca Mobil</li>\n",
    "        <li>Marcas importadas: liqui moly</li>\n",
    "        <li>Motul para tu moto</li>\n",
    "        <li>...</li>\n",
    "    </ul>\n",
    "</div>\n",
    "    \n",
    "**y mucho más!!**"
   ]
  },
  {
   "cell_type": "code",
   "execution_count": null,
   "metadata": {},
   "outputs": [],
   "source": []
  },
  {
   "cell_type": "markdown",
   "metadata": {},
   "source": [
    "## 2.2 Etapas en el desarrollo de código\n",
    "\n",
    "\n",
    "### 2.2.1 DATA FEED: Descripción del acondicionamiento del dataset original\n",
    "\n",
    "\n",
    "**1ro)** <br />\n",
    "Se aplica la función **\"importar_databases()\"** (dentro del **\"paquete_proyecto\"** hay un módulo llamado **\"iniciando\"**, ahí dentro está el fichero **\"bases.py\"**), que carga los datos del \".csv\", y pasan por una serie de tratamientos, primero manual, y posterior otro automátizado para estandarizar los tipos de variable de cada columna.\n",
    "\n",
    "**2do)** <br />\n",
    "Luego de una inspección con el módulo **\"herramientas\"**, fichero **\"data_info.py\"** se comprueba el estado de los datos, y finalmente se realizan ajustes finales desde **\"iniciando\"**, **\"bases.py\"**, **\"ajustar_tipos()\"**.\n",
    "\n",
    "<br/><br/>\n",
    "\n",
    "\n",
    "    Estructura de ficheros:\n",
    "\n",
    "            (I)  \"paquete_proyecto.iniciando\":\n",
    "\n",
    "                  - \"bases.py\": \n",
    "                        Contiene la función \"importar_databases()\" y \"ajustar_tipos()\" que usamos para iniciar el proyecto.\n",
    "\n",
    "\n",
    "                  - Este módulo no es genérico, se desarrolló para el proyecto en cuestión.\n",
    "\n",
    "\n",
    "\n",
    "            (II)  \"paquete_proyecto.herramientas\": \n",
    "\n",
    "                  - \"type_adjust.py\": \n",
    "                        Contiene la función \"type_adjust()\" que estandariza el criterio de selección del tipo de variable para cada columna.\n",
    "\n",
    "                  - \"data_info.py\": \n",
    "                        Contiene la función \"data_info()\" que facilita el análisis del dataset de trabajo.\n",
    "\n",
    "                  - \"extra.py\": \n",
    "                        Son funciones que se utilizan sobre otros ficheros de los módulos, no sobre el proyecto en sí.\n",
    "\n",
    "                  - Este módulo es genérico, puede ser utilizado en otros proyectos.\n",
    "<br />\n",
    "\n",
    "### 2.2.2 DATA PREPARE: Descripción del tratamiento del dataset de trabajo\n",
    "\n",
    "**1ro)**<br />\n",
    "AGREGAR COLUMNA \"Ventas_USD\" QUE SEA  \"Ventas\" A LA COTIZACION DEL \"USD\" DE LA FECHA\n",
    "\n",
    "Queremos expresar las **ventas** en **dólares**, para eso se diseña una función que consulte la cotización histórica del **peso colombiano** respecto del dolar a través de un **API** ligada al servicio de **Alpha Vantage**. Una véz obtenido el **histórico semanal** desde el año 2014 hasta 2022, se procede a seleccionar el rango que contempla el dataset de trabajo, que corresponde al período de **2016 al 2020**. Luego se añáde la columna **\"Cotizacion_USD\"** y se calcula la columnas **\"Ventas_USD\"**\n",
    "\n",
    "\n",
    "**2do)**<br />\n",
    "AGREGAR FILAS DE FECHAS FALTANTES Y GENERADOR DE MUESTRAS\n",
    "\n",
    "Es evidente que aquellos días en los que no hubo transacciones comerciales son fechas faltantes en nuestro dataset, lo que ocurre es que por definición de series temporales un **\"log\"** o **\"paso\"** es un fragmento temporal que puede ser considerado un elemento discreto, único, y equidistante de su \"log\" precedente y posterior. Completar las fechas del dataset es fundamental si se quiere desarrollar algoritmos de **machine learning** que usen librerías para series temporales.\n",
    "\n",
    "Además de lo recién mencionado, ocurre que algunos **indicadores acumulativos** serían poco representativos de los períodos de estancamiento comercial, ya que no reflejarían la cantidad de días consecutivos sin introducir nuevas transacciones al sistema. \n",
    "\n",
    "Y por último, es necesario que el dataset esté completo si se quiere desarrollar **forecasting** (pronósticos), debido a que el proceso de **cross validation** para optimizar los hiperparámetros de entrenamiento, requiere **folds** que cumplan con lo antes mencionado respecto a las series temporales.\n",
    "\n",
    "<br /><br />\n",
    "\n",
    "      Estructura de ficheros:\n",
    "\n",
    "            (III)  \"paquete_proyecto.preprocesamiento\":\n",
    "\n",
    "                  - \"forex_api.py\": \n",
    "                        Contiene \"alpha_vantage_fx_api()\" una función desarrollada de forma genérica para consultar el histórico diario, semanal o mensual de más de 180 divisas que cotizan en el mercado de FOREX.\n",
    "\n",
    "                  - \"cotizacion.py\": \n",
    "                        Contiene dos funciones que funcionan juntas \"criterio_valor_apertura(preparar_cotizacion())\" que es un criterio para tratar los datos recibidos por la API, y contiene \"agregar_cotizacion()\" que añade la columna de cotización a un dataset de trabajo existente. \n",
    "\n",
    "                  - \"muestreo.py\": \n",
    "                        La función \"complete_dates()\" añade todas las fechas faltantes a un dataset con índice datetime. Y \"timeseries_cv()\" recibe parámetros que se introducen en \"sklearn.model_selection.TimeSeriesSplit()\" y devuelve una lista cuyos elementos son los datasets solicitados.\n",
    "                  \n",
    "                  - Este módulo es genérico, puede ser utilizado en otros proyectos."
   ]
  },
  {
   "cell_type": "markdown",
   "metadata": {},
   "source": [
    "### 2.2.3 DATA RESEARCH: Indicadores básicos\n",
    "\n",
    "**1ro)**<br />\n",
    "Se descubre que la variable **Familia** contiene las categorías de las actividades comerciales que ofrece la empresa, éstas son:\n",
    "\n",
    "- SERVICIOS (servicio)\n",
    "- REENCAUCHE (servicio)\n",
    "- LLANTA (producto)\n",
    "- FILTRO (producto)\n",
    "- LUBRICANTES (producto)\n",
    "\n",
    "Con la particularidad que sobre **SERVICIOS** se encuentran mal registrados algunas transacciones de **REENCAUCHE**. \n",
    "\n",
    "Para atender ello se procede a desarrollar una función que utilice **RegEx**, y de esa forma transladar los registros a la familia correcta.\n",
    "\n",
    "Además, para profundizar el análisis se divide la familia **FILTRO** en dos subcategorias **FILTRO_AIRE** y **FILTRO_ACEITE** haciendo uso de la funcíón mencionada.\n",
    "\n",
    "**2do)** <br />\n",
    "\n",
    "Se procede a desarrollar los siguientes indicadores:\n",
    "\n",
    "Venta Total<br />\n",
    "Cantidad de Elementos vendidos<br />\n",
    "Ganancia Facturación Total de Servicios<br />\n",
    "Cantidad de Servicios Ofrecidos<br />\n",
    "Cantidad de Sedes o ubicaciones disponibles<br />\n",
    "Ventas totales por Sedes en cada Rubro o Familia y Servicios<br />\n",
    "Ventas realizadas por sus empleados<br />\n",
    "Ranking de Ventas / Servicios de Empleados<br />"
   ]
  }
 ],
 "metadata": {
  "celltoolbar": "Slideshow",
  "kernelspec": {
   "display_name": "Python 3 (ipykernel)",
   "language": "python",
   "name": "python3"
  },
  "language_info": {
   "codemirror_mode": {
    "name": "ipython",
    "version": 3
   },
   "file_extension": ".py",
   "mimetype": "text/x-python",
   "name": "python",
   "nbconvert_exporter": "python",
   "pygments_lexer": "ipython3",
   "version": "3.10.2"
  },
  "vscode": {
   "interpreter": {
    "hash": "50f4266ce5f7bee8757675e8e75843118b7a28542b944f0e179cff14371a7ffe"
   }
  }
 },
 "nbformat": 4,
 "nbformat_minor": 2
}
